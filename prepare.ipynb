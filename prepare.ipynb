{
 "cells": [
  {
   "cell_type": "code",
   "execution_count": 2,
   "metadata": {},
   "outputs": [],
   "source": [
    "import pandas as pd\n",
    "import numpy as np\n",
    "\n",
    "import os\n",
    "import unicodedata\n",
    "import re\n",
    "import json\n",
    "\n",
    "import nltk\n",
    "from nltk.tokenize.toktok import ToktokTokenizer\n",
    "from nltk.corpus import stopwords\n",
    "\n",
    "from acquire import get_news_articles"
   ]
  },
  {
   "cell_type": "markdown",
   "metadata": {},
   "source": [
    "## Exercise 1\n",
    "Define a function named basic_clean. It should take in a string and apply some basic text cleaning to it:\n",
    "\n",
    "- Lowercase everything\n",
    "- Normalize unicode characters\n",
    "- Replace anything that is not a letter, number, whitespace or a single quote."
   ]
  },
  {
   "cell_type": "markdown",
   "metadata": {},
   "source": [
    "Normalization is when you perform a series of tasks like making all text lowercase, removing punctuation, expanding contractions, removing anything that's not an ASCII character, etc."
   ]
  },
  {
   "cell_type": "code",
   "execution_count": 3,
   "metadata": {},
   "outputs": [
    {
     "data": {
      "text/html": [
       "<div>\n",
       "<style scoped>\n",
       "    .dataframe tbody tr th:only-of-type {\n",
       "        vertical-align: middle;\n",
       "    }\n",
       "\n",
       "    .dataframe tbody tr th {\n",
       "        vertical-align: top;\n",
       "    }\n",
       "\n",
       "    .dataframe thead th {\n",
       "        text-align: right;\n",
       "    }\n",
       "</style>\n",
       "<table border=\"1\" class=\"dataframe\">\n",
       "  <thead>\n",
       "    <tr style=\"text-align: right;\">\n",
       "      <th></th>\n",
       "      <th>topic</th>\n",
       "      <th>title</th>\n",
       "      <th>author</th>\n",
       "      <th>content</th>\n",
       "    </tr>\n",
       "  </thead>\n",
       "  <tbody>\n",
       "    <tr>\n",
       "      <th>0</th>\n",
       "      <td>business</td>\n",
       "      <td>Lakshmi Vilas Bank withdrawals capped at ₹25,0...</td>\n",
       "      <td>Pragya Swastik</td>\n",
       "      <td>The Centre has imposed a 30-day moratorium on ...</td>\n",
       "    </tr>\n",
       "    <tr>\n",
       "      <th>1</th>\n",
       "      <td>business</td>\n",
       "      <td>Shutting Delhi markets may prove counterproduc...</td>\n",
       "      <td>Sakshita Khosla</td>\n",
       "      <td>Traders' body CAIT on Tuesday said a proposal ...</td>\n",
       "    </tr>\n",
       "    <tr>\n",
       "      <th>2</th>\n",
       "      <td>business</td>\n",
       "      <td>Pfizer shares drop 4.5% as Moderna says its va...</td>\n",
       "      <td>Krishna Veera Vanamali</td>\n",
       "      <td>Pfizer’s shares fell as much as 4.5% on Monday...</td>\n",
       "    </tr>\n",
       "    <tr>\n",
       "      <th>3</th>\n",
       "      <td>business</td>\n",
       "      <td>How does Moderna's COVID-19 vaccine candidate ...</td>\n",
       "      <td>Pragya Swastik</td>\n",
       "      <td>Moderna's initial results of late-stage trial ...</td>\n",
       "    </tr>\n",
       "    <tr>\n",
       "      <th>4</th>\n",
       "      <td>business</td>\n",
       "      <td>Musk gets $15bn richer in 2 hours, becomes wor...</td>\n",
       "      <td>Krishna Veera Vanamali</td>\n",
       "      <td>Billionaire Elon Musk added $15 billion to his...</td>\n",
       "    </tr>\n",
       "  </tbody>\n",
       "</table>\n",
       "</div>"
      ],
      "text/plain": [
       "      topic                                              title  \\\n",
       "0  business  Lakshmi Vilas Bank withdrawals capped at ₹25,0...   \n",
       "1  business  Shutting Delhi markets may prove counterproduc...   \n",
       "2  business  Pfizer shares drop 4.5% as Moderna says its va...   \n",
       "3  business  How does Moderna's COVID-19 vaccine candidate ...   \n",
       "4  business  Musk gets $15bn richer in 2 hours, becomes wor...   \n",
       "\n",
       "                   author                                            content  \n",
       "0          Pragya Swastik  The Centre has imposed a 30-day moratorium on ...  \n",
       "1         Sakshita Khosla  Traders' body CAIT on Tuesday said a proposal ...  \n",
       "2  Krishna Veera Vanamali  Pfizer’s shares fell as much as 4.5% on Monday...  \n",
       "3          Pragya Swastik  Moderna's initial results of late-stage trial ...  \n",
       "4  Krishna Veera Vanamali  Billionaire Elon Musk added $15 billion to his...  "
      ]
     },
     "execution_count": 3,
     "metadata": {},
     "output_type": "execute_result"
    }
   ],
   "source": [
    "df = get_news_articles(cached=True)\n",
    "df.head()"
   ]
  },
  {
   "cell_type": "code",
   "execution_count": 4,
   "metadata": {},
   "outputs": [
    {
     "name": "stdout",
     "output_type": "stream",
     "text": [
      "<class 'pandas.core.series.Series'>\n"
     ]
    },
    {
     "data": {
      "text/plain": [
       "0    The Centre has imposed a 30-day moratorium on ...\n",
       "1    Traders' body CAIT on Tuesday said a proposal ...\n",
       "2    Pfizer’s shares fell as much as 4.5% on Monday...\n",
       "3    Moderna's initial results of late-stage trial ...\n",
       "4    Billionaire Elon Musk added $15 billion to his...\n",
       "Name: content, dtype: object"
      ]
     },
     "execution_count": 4,
     "metadata": {},
     "output_type": "execute_result"
    }
   ],
   "source": [
    "articles = df.content\n",
    "print(type(articles))\n",
    "articles[:5]"
   ]
  },
  {
   "cell_type": "code",
   "execution_count": 5,
   "metadata": {},
   "outputs": [
    {
     "name": "stdout",
     "output_type": "stream",
     "text": [
      "<class 'str'>\n"
     ]
    },
    {
     "data": {
      "text/plain": [
       "'The Centre has imposed a 30-day moratorium on Lakshmi Vilas Bank effective from Tuesday. A withdrawal limit of ₹25,000 with certain exceptions for unforeseen expenses has been imposed for depositors. The RBI said, \"The financial position of the bank has undergone a steady decline with continuous losses over the last three years.\"'"
      ]
     },
     "execution_count": 5,
     "metadata": {},
     "output_type": "execute_result"
    }
   ],
   "source": [
    "article = articles[0]\n",
    "print(type(article))\n",
    "article"
   ]
  },
  {
   "cell_type": "code",
   "execution_count": 7,
   "metadata": {},
   "outputs": [
    {
     "data": {
      "text/plain": [
       "'the centre has imposed a 30-day moratorium on lakshmi vilas bank effective from tuesday. a withdrawal limit of ₹25,000 with certain exceptions for unforeseen expenses has been imposed for depositors. the rbi said, \"the financial position of the bank has undergone a steady decline with continuous losses over the last three years.\"'"
      ]
     },
     "execution_count": 7,
     "metadata": {},
     "output_type": "execute_result"
    }
   ],
   "source": [
    "# Make all characters in string lowercase.\n",
    "# string = string.lower()\n",
    "\n",
    "article.lower()"
   ]
  },
  {
   "cell_type": "code",
   "execution_count": 8,
   "metadata": {},
   "outputs": [
    {
     "data": {
      "text/plain": [
       "'The Centre has imposed a 30-day moratorium on Lakshmi Vilas Bank effective from Tuesday. A withdrawal limit of 25,000 with certain exceptions for unforeseen expenses has been imposed for depositors. The RBI said, \"The financial position of the bank has undergone a steady decline with continuous losses over the last three years.\"'"
      ]
     },
     "execution_count": 8,
     "metadata": {},
     "output_type": "execute_result"
    }
   ],
   "source": [
    "# # Remove inconsistencies in unicode character encoding.\n",
    "# string = unicodedata.normalize(form, unistr)\n",
    "# # Convert string to ASCII character set and drop non-ASCII characters.\n",
    "# string = string.encode('ascii', 'ignore')\n",
    "# # Convert the bytes back into a string object.\n",
    "# string = string.decode('utf-8', 'ignore')\n",
    "\n",
    "\n",
    "# I have to reassign to my variable if I want to save the changes.\n",
    "\n",
    "unicodedata.normalize('NFKC', article).encode('ascii', 'ignore').decode('utf-8', 'ignore')"
   ]
  },
  {
   "cell_type": "code",
   "execution_count": 9,
   "metadata": {},
   "outputs": [
    {
     "data": {
      "text/plain": [
       "'The Centre has imposed a 30day moratorium on Lakshmi Vilas Bank effective from Tuesday A withdrawal limit of 25000 with certain exceptions for unforeseen expenses has been imposed for depositors The RBI said The financial position of the bank has undergone a steady decline with continuous losses over the last three years'"
      ]
     },
     "execution_count": 9,
     "metadata": {},
     "output_type": "execute_result"
    }
   ],
   "source": [
    "# # Remove characters that are not letters, underscores, or spaces.\n",
    "# string = re.sub(r'[^\\w\\s]', '', string)\n",
    "\n",
    "# # Remove characters that are not letters, numbers, single quotes, or spaces.\n",
    "# string = re.sub(r\"[^a-z0-9'\\s]\", '', string)\n",
    "\n",
    "re.sub(r'[^\\w\\s]', '', article)"
   ]
  },
  {
   "cell_type": "code",
   "execution_count": 10,
   "metadata": {},
   "outputs": [],
   "source": [
    "def basic_clean(string):\n",
    "    '''\n",
    "    This function takes in a string and\n",
    "    returns the string normalized.\n",
    "    '''\n",
    "    string = unicodedata.normalize('NFKC', string)\\\n",
    "             .encode('ascii', 'ignore')\\\n",
    "             .decode('utf-8', 'ignore')\n",
    "    string = re.sub(r'[^\\w\\s]', '', string).lower()\n",
    "    return string"
   ]
  },
  {
   "cell_type": "code",
   "execution_count": 11,
   "metadata": {},
   "outputs": [
    {
     "data": {
      "text/plain": [
       "'the centre has imposed a 30day moratorium on lakshmi vilas bank effective from tuesday a withdrawal limit of 25000 with certain exceptions for unforeseen expenses has been imposed for depositors the rbi said the financial position of the bank has undergone a steady decline with continuous losses over the last three years'"
      ]
     },
     "execution_count": 11,
     "metadata": {},
     "output_type": "execute_result"
    }
   ],
   "source": [
    "basic_clean(article)"
   ]
  },
  {
   "cell_type": "markdown",
   "metadata": {},
   "source": [
    "## Exercise 2\n",
    "Define a function named tokenize. It should take in a string and tokenize all the words in the string."
   ]
  },
  {
   "cell_type": "markdown",
   "metadata": {},
   "source": [
    "Tokenization - is when you split larger strings of text into smaller pieces or tokens by setting a boundary. You might chunk a sentence into words using a space as a boundary or a paragraph into sentences using punctuation as a boundary."
   ]
  },
  {
   "cell_type": "code",
   "execution_count": 12,
   "metadata": {},
   "outputs": [
    {
     "data": {
      "text/plain": [
       "'The Centre has imposed a 30-day moratorium on Lakshmi Vilas Bank effective from Tuesday. A withdrawal limit of ₹ 25,000 with certain exceptions for unforeseen expenses has been imposed for depositors. The RBI said , \" The financial position of the bank has undergone a steady decline with continuous losses over the last three years . \"'"
      ]
     },
     "execution_count": 12,
     "metadata": {},
     "output_type": "execute_result"
    }
   ],
   "source": [
    "# # Create the tokenizer\n",
    "tokenizer = nltk.tokenize.ToktokTokenizer()\n",
    "\n",
    "# Use the tokenizer on my string; assign to variable to save changes\n",
    "\n",
    "tokenizer.tokenize(article, return_str=True)"
   ]
  },
  {
   "cell_type": "code",
   "execution_count": 13,
   "metadata": {},
   "outputs": [],
   "source": [
    "def tokenize(string):\n",
    "    '''\n",
    "    This function takes in a string and\n",
    "    returns a tokenized string.\n",
    "    '''\n",
    "    # Create tokenizer.\n",
    "    tokenizer = nltk.tokenize.ToktokTokenizer()\n",
    "    \n",
    "    # Use tokenizer\n",
    "    string = tokenizer.tokenize(string, return_str=True)\n",
    "    \n",
    "    return string"
   ]
  },
  {
   "cell_type": "code",
   "execution_count": 14,
   "metadata": {},
   "outputs": [
    {
     "data": {
      "text/plain": [
       "'The Centre has imposed a 30-day moratorium on Lakshmi Vilas Bank effective from Tuesday. A withdrawal limit of ₹ 25,000 with certain exceptions for unforeseen expenses has been imposed for depositors. The RBI said , \" The financial position of the bank has undergone a steady decline with continuous losses over the last three years . \"'"
      ]
     },
     "execution_count": 14,
     "metadata": {},
     "output_type": "execute_result"
    }
   ],
   "source": [
    "tokenize(article)"
   ]
  },
  {
   "cell_type": "markdown",
   "metadata": {},
   "source": [
    "## Exercise 3\n",
    "Define a function named stem. It should accept some text and return the text after applying stemming to all the words."
   ]
  },
  {
   "cell_type": "markdown",
   "metadata": {},
   "source": [
    "Stemming is when you reduce related words in your text to their common stem. It can make it easier when you are searching for a particular word in your text to search for their common stem rather than every form of the word. Stemmers aren't that sophisticated in the way they chop off word endings at their common stems; Spacy, another python NLP library, doesn't even include a stemmer in their library. Spacy only offers the more sophisticated lemmatizer, which we will look at in NLTK next.\n"
   ]
  },
  {
   "cell_type": "code",
   "execution_count": 15,
   "metadata": {},
   "outputs": [],
   "source": [
    "# Create porter stemmer.\n",
    "\n",
    "ps = nltk.porter.PorterStemmer()"
   ]
  },
  {
   "cell_type": "code",
   "execution_count": 16,
   "metadata": {},
   "outputs": [
    {
     "data": {
      "text/plain": [
       "['the',\n",
       " 'centr',\n",
       " 'ha',\n",
       " 'impos',\n",
       " 'a',\n",
       " '30-day',\n",
       " 'moratorium',\n",
       " 'on',\n",
       " 'lakshmi',\n",
       " 'vila']"
      ]
     },
     "execution_count": 16,
     "metadata": {},
     "output_type": "execute_result"
    }
   ],
   "source": [
    "# Apply the stemmer to each word in our string.\n",
    "\n",
    "stems = [ps.stem(word) for word in article.split()]\n",
    "stems[:10]"
   ]
  },
  {
   "cell_type": "code",
   "execution_count": 17,
   "metadata": {},
   "outputs": [
    {
     "data": {
      "text/plain": [
       "'the centr ha impos a 30-day moratorium on lakshmi vila bank effect from tuesday. A withdraw limit of ₹25,000 with certain except for unforeseen expens ha been impos for depositors. the rbi said, \"the financi posit of the bank ha undergon a steadi declin with continu loss over the last three years.\"'"
      ]
     },
     "execution_count": 17,
     "metadata": {},
     "output_type": "execute_result"
    }
   ],
   "source": [
    "# Join our lists of words into a string again; assign to a variable to save changes\n",
    "\n",
    "' '.join(stems)"
   ]
  },
  {
   "cell_type": "code",
   "execution_count": 18,
   "metadata": {},
   "outputs": [],
   "source": [
    "def stem(string):\n",
    "    '''\n",
    "    This function takes in a string and\n",
    "    returns a string with words stemmed.\n",
    "    '''\n",
    "    # Create porter stemmer.\n",
    "    ps = nltk.porter.PorterStemmer()\n",
    "    \n",
    "    # Use the stemmer to stem each word in the list of words we created by using split.\n",
    "    stems = [ps.stem(word) for word in string.split()]\n",
    "    \n",
    "    # Join our lists of words into a string again and assign to a variable.\n",
    "    string = ' '.join(stems)\n",
    "    \n",
    "    return string"
   ]
  },
  {
   "cell_type": "code",
   "execution_count": 19,
   "metadata": {},
   "outputs": [
    {
     "data": {
      "text/plain": [
       "'the centr ha impos a 30-day moratorium on lakshmi vila bank effect from tuesday. A withdraw limit of ₹25,000 with certain except for unforeseen expens ha been impos for depositors. the rbi said, \"the financi posit of the bank ha undergon a steadi declin with continu loss over the last three years.\"'"
      ]
     },
     "execution_count": 19,
     "metadata": {},
     "output_type": "execute_result"
    }
   ],
   "source": [
    "stem(article)"
   ]
  },
  {
   "cell_type": "markdown",
   "metadata": {},
   "source": [
    "## Exercise 4\n",
    "Define a function named lemmatize. It should accept some text and return the text after applying lemmatization to each word."
   ]
  },
  {
   "cell_type": "markdown",
   "metadata": {},
   "source": [
    "Lemmatization - is when you reduce related words in your text to their lemma or word base by applying a morphological analysis to your text. Like stemming, this is done to reduce the number of forms you have of the same word, so they can be analyzed as a single item. While stemming might create tokens that are not actually words anymore after they have been chopped off at their base, lemmatization will leave you with real words. A drawback to lemmatization is that it takes longer than stemming; you can try both to see which gives you better results as you analyze a given text.\n"
   ]
  },
  {
   "cell_type": "code",
   "execution_count": 20,
   "metadata": {},
   "outputs": [],
   "source": [
    "# Create the Lemmatizer.\n",
    "\n",
    "wnl = nltk.stem.WordNetLemmatizer()"
   ]
  },
  {
   "cell_type": "code",
   "execution_count": 21,
   "metadata": {},
   "outputs": [
    {
     "data": {
      "text/plain": [
       "'Calls'"
      ]
     },
     "execution_count": 21,
     "metadata": {},
     "output_type": "execute_result"
    }
   ],
   "source": [
    "# Check lemmatizer. It works.\n",
    "\n",
    "wnl.lemmatize('Calls')"
   ]
  },
  {
   "cell_type": "code",
   "execution_count": 22,
   "metadata": {},
   "outputs": [
    {
     "data": {
      "text/plain": [
       "['The',\n",
       " 'Centre',\n",
       " 'ha',\n",
       " 'imposed',\n",
       " 'a',\n",
       " '30-day',\n",
       " 'moratorium',\n",
       " 'on',\n",
       " 'Lakshmi',\n",
       " 'Vilas']"
      ]
     },
     "execution_count": 22,
     "metadata": {},
     "output_type": "execute_result"
    }
   ],
   "source": [
    "# Use the lemmatizer on each word in the list of words we created by using split.\n",
    "\n",
    "lemmas = [wnl.lemmatize(word) for word in article.split()]\n",
    "lemmas[:10]"
   ]
  },
  {
   "cell_type": "code",
   "execution_count": 23,
   "metadata": {},
   "outputs": [
    {
     "data": {
      "text/plain": [
       "'The Centre ha imposed a 30-day moratorium on Lakshmi Vilas Bank effective from Tuesday. A withdrawal limit of ₹25,000 with certain exception for unforeseen expense ha been imposed for depositors. The RBI said, \"The financial position of the bank ha undergone a steady decline with continuous loss over the last three years.\"'"
      ]
     },
     "execution_count": 23,
     "metadata": {},
     "output_type": "execute_result"
    }
   ],
   "source": [
    "# Join our list of words into a string again; assign to a variable to save changes.\n",
    "\n",
    "' '.join(lemmas)"
   ]
  },
  {
   "cell_type": "code",
   "execution_count": 25,
   "metadata": {},
   "outputs": [],
   "source": [
    "def lemmatize(string):\n",
    "    '''\n",
    "    This function takes in string for and\n",
    "    returns a string with words lemmatized.\n",
    "    '''\n",
    "    # Create the lemmatizer.\n",
    "    wnl = nltk.stem.WordNetLemmatizer()\n",
    "    \n",
    "    # Use the lemmatizer on each word in the list of words we created by using split.\n",
    "    lemmas = [wnl.lemmatize(word) for word in string.split()]\n",
    "    \n",
    "    # Join our list of words into a string again and assign to a variable.\n",
    "    string = ' '.join(lemmas)\n",
    "    \n",
    "    return string"
   ]
  },
  {
   "cell_type": "code",
   "execution_count": 26,
   "metadata": {},
   "outputs": [
    {
     "data": {
      "text/plain": [
       "'The Centre ha imposed a 30-day moratorium on Lakshmi Vilas Bank effective from Tuesday. A withdrawal limit of ₹25,000 with certain exception for unforeseen expense ha been imposed for depositors. The RBI said, \"The financial position of the bank ha undergone a steady decline with continuous loss over the last three years.\"'"
      ]
     },
     "execution_count": 26,
     "metadata": {},
     "output_type": "execute_result"
    }
   ],
   "source": [
    "lemmatize(article)"
   ]
  },
  {
   "cell_type": "markdown",
   "metadata": {},
   "source": [
    "## Exercise 5\n",
    "Define a function named remove_stopwords. It should accept some text and return the text after removing all the stopwords.\n",
    "\n",
    "This function should define two optional parameters, extra_words and exclude_words. These parameters should define any additional stop words to include, and any words that we don't want to remove."
   ]
  },
  {
   "cell_type": "markdown",
   "metadata": {},
   "source": [
    "Stopwords - are words which are filtered out during the preparation of your text for analyzation and modeling. Stopwords are those that offer little to the meaning of your text and are basically just adding noise to your analysis. Or, as Ryan Orsinger would say, \"Stopwords aren't the real story of the document.\" Words such as 'the', 'and', 'a', and the like can be removed, so you can better focus on the good stuff."
   ]
  },
  {
   "cell_type": "code",
   "execution_count": 27,
   "metadata": {},
   "outputs": [
    {
     "data": {
      "text/plain": [
       "179"
      ]
     },
     "execution_count": 27,
     "metadata": {},
     "output_type": "execute_result"
    }
   ],
   "source": [
    "# Create the list of stopwords.\n",
    "\n",
    "stopword_list = stopwords.words('english')\n",
    "len(stopword_list)"
   ]
  },
  {
   "cell_type": "code",
   "execution_count": 28,
   "metadata": {},
   "outputs": [
    {
     "data": {
      "text/plain": [
       "['The',\n",
       " 'Centre',\n",
       " 'has',\n",
       " 'imposed',\n",
       " 'a',\n",
       " '30-day',\n",
       " 'moratorium',\n",
       " 'on',\n",
       " 'Lakshmi',\n",
       " 'Vilas']"
      ]
     },
     "execution_count": 28,
     "metadata": {},
     "output_type": "execute_result"
    }
   ],
   "source": [
    "# Split words in lemmatized column.\n",
    "\n",
    "words = article.split()\n",
    "words[:10]"
   ]
  },
  {
   "cell_type": "code",
   "execution_count": 29,
   "metadata": {},
   "outputs": [
    {
     "data": {
      "text/plain": [
       "['The',\n",
       " 'Centre',\n",
       " 'imposed',\n",
       " '30-day',\n",
       " 'moratorium',\n",
       " 'Lakshmi',\n",
       " 'Vilas',\n",
       " 'Bank',\n",
       " 'effective',\n",
       " 'Tuesday.']"
      ]
     },
     "execution_count": 29,
     "metadata": {},
     "output_type": "execute_result"
    }
   ],
   "source": [
    "# Create a list of words from my string with stopwords removed and assign to variable.\n",
    "\n",
    "filtered_words = [word for word in words if word not in stopword_list]\n",
    "filtered_words[:10]"
   ]
  },
  {
   "cell_type": "code",
   "execution_count": 30,
   "metadata": {},
   "outputs": [
    {
     "data": {
      "text/plain": [
       "'The Centre imposed 30-day moratorium Lakshmi Vilas Bank effective Tuesday. A withdrawal limit ₹25,000 certain exceptions unforeseen expenses imposed depositors. The RBI said, \"The financial position bank undergone steady decline continuous losses last three years.\"'"
      ]
     },
     "execution_count": 30,
     "metadata": {},
     "output_type": "execute_result"
    }
   ],
   "source": [
    "# Join words in the list back into strings; assign to a variable to keep changes.\n",
    "\n",
    "' '.join(filtered_words)"
   ]
  },
  {
   "cell_type": "code",
   "execution_count": 31,
   "metadata": {},
   "outputs": [],
   "source": [
    "def remove_stopwords(string, extra_words=[], exclude_words=[]):\n",
    "    '''\n",
    "    This function takes in a string, optional extra_words and exclude_words parameters\n",
    "    with default empty lists and returns a string.\n",
    "    '''\n",
    "    # Create stopword_list.\n",
    "    stopword_list = stopwords.words('english')\n",
    "    \n",
    "    # Remove 'exclude_words' from stopword_list to keep these in my text.\n",
    "    stopword_list = set(stopword_list) - set(exclude_words)\n",
    "\n",
    "    # Add in 'extra_words' to stopword_list.\n",
    "    stopword_list = stopword_list.union(set(extra_words))\n",
    "    \n",
    "    # Split words in string.\n",
    "    words = string.split()\n",
    "    \n",
    "    # Create a list of words from my string with stopwords removed and assign to variable.\n",
    "    filtered_words = [word for word in words if word not in stopword_list]\n",
    "    \n",
    "    # Join words in the list back into strings and assign to a variable.\n",
    "    string_without_stopwords = ' '.join(filtered_words)\n",
    "    \n",
    "    return string_without_stopwords"
   ]
  },
  {
   "cell_type": "code",
   "execution_count": 32,
   "metadata": {},
   "outputs": [
    {
     "data": {
      "text/plain": [
       "'The Centre imposed 30-day moratorium Lakshmi Vilas Bank effective Tuesday. A withdrawal limit ₹25,000 certain exceptions unforeseen expenses imposed depositors. The RBI said, \"The financial position bank undergone steady decline continuous losses last three years.\"'"
      ]
     },
     "execution_count": 32,
     "metadata": {},
     "output_type": "execute_result"
    }
   ],
   "source": [
    "remove_stopwords(article)"
   ]
  },
  {
   "cell_type": "code",
   "execution_count": 39,
   "metadata": {},
   "outputs": [
    {
     "data": {
      "text/plain": [
       "'The imposed 30-day moratorium Lakshmi Vilas Bank effective Tuesday. A withdrawal limit ₹25,000 certain exceptions unforeseen expenses imposed depositors. The RBI said, \"The financial position bank undergone steady decline continuous losses last three years.\"'"
      ]
     },
     "execution_count": 39,
     "metadata": {},
     "output_type": "execute_result"
    }
   ],
   "source": [
    "# Test my function for adding extra_words to my stopword list and removing exclude_words. \n",
    "\n",
    "remove_stopwords(article, extra_words=['Centre'], exclude_words=['i', 'me'])"
   ]
  },
  {
   "cell_type": "markdown",
   "metadata": {},
   "source": [
    "## Exercise 6\n",
    "Define a function named prep_article that takes in the dictionary representing an article and returns a dictionary that looks like this:\n",
    "\n",
    "{\n",
    "    'title': 'the original title'.\n",
    "    'original': original,\n",
    "    'stemmed': article_stemmed,\n",
    "    'lemmatized': article_lemmatized,\n",
    "    'clean': article_without_stopwords\n",
    "}\n",
    "Note that if the orignal dictionary has a title property, it should remain unchanged (same goes for the category property)."
   ]
  },
  {
   "cell_type": "code",
   "execution_count": 40,
   "metadata": {},
   "outputs": [
    {
     "data": {
      "text/plain": [
       "0     centre imposed 30day moratorium lakshmi vila b...\n",
       "1     trader body cait tuesday said proposal impose ...\n",
       "2     pfizers share fell much 45 monday rival modern...\n",
       "3     modernas initial result latestage trial show c...\n",
       "4     billionaire elon musk added 15 billion wealth ...\n",
       "                            ...                        \n",
       "94    recent interview singer amaal mallik mentioned...\n",
       "95    actor suriya sivakumar said belief indian film...\n",
       "96    actor aditya roy kapur start shooting upcoming...\n",
       "97    sharing picture set upcoming film jug jugg jee...\n",
       "98    actor sonu sood appointed state icon punjab el...\n",
       "Name: content, Length: 99, dtype: object"
      ]
     },
     "execution_count": 40,
     "metadata": {},
     "output_type": "execute_result"
    }
   ],
   "source": [
    "# I'm checking my code before I throw it in my function; always check it first!\n",
    "\n",
    "df['content'].apply(basic_clean)\\\n",
    "             .apply(tokenize)\\\n",
    "             .apply(remove_stopwords)\\\n",
    "             .apply(lemmatize)"
   ]
  },
  {
   "cell_type": "code",
   "execution_count": 41,
   "metadata": {},
   "outputs": [
    {
     "data": {
      "text/html": [
       "<div>\n",
       "<style scoped>\n",
       "    .dataframe tbody tr th:only-of-type {\n",
       "        vertical-align: middle;\n",
       "    }\n",
       "\n",
       "    .dataframe tbody tr th {\n",
       "        vertical-align: top;\n",
       "    }\n",
       "\n",
       "    .dataframe thead th {\n",
       "        text-align: right;\n",
       "    }\n",
       "</style>\n",
       "<table border=\"1\" class=\"dataframe\">\n",
       "  <thead>\n",
       "    <tr style=\"text-align: right;\">\n",
       "      <th></th>\n",
       "      <th>topic</th>\n",
       "      <th>title</th>\n",
       "      <th>author</th>\n",
       "      <th>content</th>\n",
       "    </tr>\n",
       "  </thead>\n",
       "  <tbody>\n",
       "    <tr>\n",
       "      <th>0</th>\n",
       "      <td>business</td>\n",
       "      <td>Lakshmi Vilas Bank withdrawals capped at ₹25,0...</td>\n",
       "      <td>Pragya Swastik</td>\n",
       "      <td>The Centre has imposed a 30-day moratorium on ...</td>\n",
       "    </tr>\n",
       "    <tr>\n",
       "      <th>1</th>\n",
       "      <td>business</td>\n",
       "      <td>Shutting Delhi markets may prove counterproduc...</td>\n",
       "      <td>Sakshita Khosla</td>\n",
       "      <td>Traders' body CAIT on Tuesday said a proposal ...</td>\n",
       "    </tr>\n",
       "  </tbody>\n",
       "</table>\n",
       "</div>"
      ],
      "text/plain": [
       "      topic                                              title  \\\n",
       "0  business  Lakshmi Vilas Bank withdrawals capped at ₹25,0...   \n",
       "1  business  Shutting Delhi markets may prove counterproduc...   \n",
       "\n",
       "            author                                            content  \n",
       "0   Pragya Swastik  The Centre has imposed a 30-day moratorium on ...  \n",
       "1  Sakshita Khosla  Traders' body CAIT on Tuesday said a proposal ...  "
      ]
     },
     "execution_count": 41,
     "metadata": {},
     "output_type": "execute_result"
    }
   ],
   "source": [
    "df = get_news_articles(cached=True)\n",
    "df.head(2)"
   ]
  },
  {
   "cell_type": "code",
   "execution_count": 42,
   "metadata": {},
   "outputs": [],
   "source": [
    "def prep_article_data(df, column, extra_words=[], exclude_words=[]):\n",
    "    '''\n",
    "    This function take in a df and the string name for a text column with \n",
    "    option to pass lists for extra_words and exclude_words and\n",
    "    returns a df with the text article title, original text, stemmed text,\n",
    "    lemmatized text, cleaned, tokenized, & lemmatized text with stopwords removed.\n",
    "    '''\n",
    "    df['clean'] = df[column].apply(basic_clean)\\\n",
    "                            .apply(tokenize)\\\n",
    "                            .apply(remove_stopwords, \n",
    "                                   extra_words=extra_words, \n",
    "                                   exclude_words=exclude_words)\\\n",
    "                            .apply(lemmatize)\n",
    "    \n",
    "    df['stemmed'] = df[column].apply(basic_clean).apply(stem)\n",
    "    \n",
    "    df['lemmatized'] = df[column].apply(basic_clean).apply(lemmatize)\n",
    "    \n",
    "    return df[['title', column, 'stemmed', 'lemmatized', 'clean']]"
   ]
  },
  {
   "cell_type": "code",
   "execution_count": 43,
   "metadata": {},
   "outputs": [
    {
     "data": {
      "text/html": [
       "<div>\n",
       "<style scoped>\n",
       "    .dataframe tbody tr th:only-of-type {\n",
       "        vertical-align: middle;\n",
       "    }\n",
       "\n",
       "    .dataframe tbody tr th {\n",
       "        vertical-align: top;\n",
       "    }\n",
       "\n",
       "    .dataframe thead th {\n",
       "        text-align: right;\n",
       "    }\n",
       "</style>\n",
       "<table border=\"1\" class=\"dataframe\">\n",
       "  <thead>\n",
       "    <tr style=\"text-align: right;\">\n",
       "      <th></th>\n",
       "      <th>title</th>\n",
       "      <th>content</th>\n",
       "      <th>stemmed</th>\n",
       "      <th>lemmatized</th>\n",
       "      <th>clean</th>\n",
       "    </tr>\n",
       "  </thead>\n",
       "  <tbody>\n",
       "    <tr>\n",
       "      <th>0</th>\n",
       "      <td>Lakshmi Vilas Bank withdrawals capped at ₹25,0...</td>\n",
       "      <td>The Centre has imposed a 30-day moratorium on ...</td>\n",
       "      <td>the centr ha impos a 30day moratorium on laksh...</td>\n",
       "      <td>the centre ha imposed a 30day moratorium on la...</td>\n",
       "      <td>centre imposed 30day moratorium lakshmi vila b...</td>\n",
       "    </tr>\n",
       "    <tr>\n",
       "      <th>1</th>\n",
       "      <td>Shutting Delhi markets may prove counterproduc...</td>\n",
       "      <td>Traders' body CAIT on Tuesday said a proposal ...</td>\n",
       "      <td>trader bodi cait on tuesday said a propos to i...</td>\n",
       "      <td>trader body cait on tuesday said a proposal to...</td>\n",
       "      <td>trader body cait tuesday said proposal impose ...</td>\n",
       "    </tr>\n",
       "    <tr>\n",
       "      <th>2</th>\n",
       "      <td>Pfizer shares drop 4.5% as Moderna says its va...</td>\n",
       "      <td>Pfizer’s shares fell as much as 4.5% on Monday...</td>\n",
       "      <td>pfizer share fell as much as 45 on monday afte...</td>\n",
       "      <td>pfizers share fell a much a 45 on monday after...</td>\n",
       "      <td>pfizers share fell much 45 monday rival modern...</td>\n",
       "    </tr>\n",
       "    <tr>\n",
       "      <th>3</th>\n",
       "      <td>How does Moderna's COVID-19 vaccine candidate ...</td>\n",
       "      <td>Moderna's initial results of late-stage trial ...</td>\n",
       "      <td>moderna initi result of latestag trial show it...</td>\n",
       "      <td>modernas initial result of latestage trial sho...</td>\n",
       "      <td>modernas initial result latestage trial show c...</td>\n",
       "    </tr>\n",
       "    <tr>\n",
       "      <th>4</th>\n",
       "      <td>Musk gets $15bn richer in 2 hours, becomes wor...</td>\n",
       "      <td>Billionaire Elon Musk added $15 billion to his...</td>\n",
       "      <td>billionair elon musk ad 15 billion to hi wealt...</td>\n",
       "      <td>billionaire elon musk added 15 billion to his ...</td>\n",
       "      <td>billionaire elon musk added 15 billion wealth ...</td>\n",
       "    </tr>\n",
       "  </tbody>\n",
       "</table>\n",
       "</div>"
      ],
      "text/plain": [
       "                                               title  \\\n",
       "0  Lakshmi Vilas Bank withdrawals capped at ₹25,0...   \n",
       "1  Shutting Delhi markets may prove counterproduc...   \n",
       "2  Pfizer shares drop 4.5% as Moderna says its va...   \n",
       "3  How does Moderna's COVID-19 vaccine candidate ...   \n",
       "4  Musk gets $15bn richer in 2 hours, becomes wor...   \n",
       "\n",
       "                                             content  \\\n",
       "0  The Centre has imposed a 30-day moratorium on ...   \n",
       "1  Traders' body CAIT on Tuesday said a proposal ...   \n",
       "2  Pfizer’s shares fell as much as 4.5% on Monday...   \n",
       "3  Moderna's initial results of late-stage trial ...   \n",
       "4  Billionaire Elon Musk added $15 billion to his...   \n",
       "\n",
       "                                             stemmed  \\\n",
       "0  the centr ha impos a 30day moratorium on laksh...   \n",
       "1  trader bodi cait on tuesday said a propos to i...   \n",
       "2  pfizer share fell as much as 45 on monday afte...   \n",
       "3  moderna initi result of latestag trial show it...   \n",
       "4  billionair elon musk ad 15 billion to hi wealt...   \n",
       "\n",
       "                                          lemmatized  \\\n",
       "0  the centre ha imposed a 30day moratorium on la...   \n",
       "1  trader body cait on tuesday said a proposal to...   \n",
       "2  pfizers share fell a much a 45 on monday after...   \n",
       "3  modernas initial result of latestage trial sho...   \n",
       "4  billionaire elon musk added 15 billion to his ...   \n",
       "\n",
       "                                               clean  \n",
       "0  centre imposed 30day moratorium lakshmi vila b...  \n",
       "1  trader body cait tuesday said proposal impose ...  \n",
       "2  pfizers share fell much 45 monday rival modern...  \n",
       "3  modernas initial result latestage trial show c...  \n",
       "4  billionaire elon musk added 15 billion wealth ...  "
      ]
     },
     "execution_count": 43,
     "metadata": {},
     "output_type": "execute_result"
    }
   ],
   "source": [
    "df = prep_article_data(df, 'content')\n",
    "df.head()"
   ]
  },
  {
   "cell_type": "code",
   "execution_count": 44,
   "metadata": {},
   "outputs": [
    {
     "data": {
      "text/html": [
       "<div>\n",
       "<style scoped>\n",
       "    .dataframe tbody tr th:only-of-type {\n",
       "        vertical-align: middle;\n",
       "    }\n",
       "\n",
       "    .dataframe tbody tr th {\n",
       "        vertical-align: top;\n",
       "    }\n",
       "\n",
       "    .dataframe thead th {\n",
       "        text-align: right;\n",
       "    }\n",
       "</style>\n",
       "<table border=\"1\" class=\"dataframe\">\n",
       "  <thead>\n",
       "    <tr style=\"text-align: right;\">\n",
       "      <th></th>\n",
       "      <th>title</th>\n",
       "      <th>content</th>\n",
       "      <th>stemmed</th>\n",
       "      <th>lemmatized</th>\n",
       "      <th>clean</th>\n",
       "    </tr>\n",
       "  </thead>\n",
       "  <tbody>\n",
       "    <tr>\n",
       "      <th>0</th>\n",
       "      <td>Lakshmi Vilas Bank withdrawals capped at ₹25,0...</td>\n",
       "      <td>The Centre has imposed a 30-day moratorium on ...</td>\n",
       "      <td>the centr ha impos a 30day moratorium on laksh...</td>\n",
       "      <td>the centre ha imposed a 30day moratorium on la...</td>\n",
       "      <td>imposed 30day moratorium lakshmi vila effectiv...</td>\n",
       "    </tr>\n",
       "    <tr>\n",
       "      <th>1</th>\n",
       "      <td>Shutting Delhi markets may prove counterproduc...</td>\n",
       "      <td>Traders' body CAIT on Tuesday said a proposal ...</td>\n",
       "      <td>trader bodi cait on tuesday said a propos to i...</td>\n",
       "      <td>trader body cait on tuesday said a proposal to...</td>\n",
       "      <td>trader body cait tuesday said proposal impose ...</td>\n",
       "    </tr>\n",
       "    <tr>\n",
       "      <th>2</th>\n",
       "      <td>Pfizer shares drop 4.5% as Moderna says its va...</td>\n",
       "      <td>Pfizer’s shares fell as much as 4.5% on Monday...</td>\n",
       "      <td>pfizer share fell as much as 45 on monday afte...</td>\n",
       "      <td>pfizers share fell a much a 45 on monday after...</td>\n",
       "      <td>pfizers share fell much 45 monday rival modern...</td>\n",
       "    </tr>\n",
       "    <tr>\n",
       "      <th>3</th>\n",
       "      <td>How does Moderna's COVID-19 vaccine candidate ...</td>\n",
       "      <td>Moderna's initial results of late-stage trial ...</td>\n",
       "      <td>moderna initi result of latestag trial show it...</td>\n",
       "      <td>modernas initial result of latestage trial sho...</td>\n",
       "      <td>modernas initial result latestage trial show c...</td>\n",
       "    </tr>\n",
       "    <tr>\n",
       "      <th>4</th>\n",
       "      <td>Musk gets $15bn richer in 2 hours, becomes wor...</td>\n",
       "      <td>Billionaire Elon Musk added $15 billion to his...</td>\n",
       "      <td>billionair elon musk ad 15 billion to hi wealt...</td>\n",
       "      <td>billionaire elon musk added 15 billion to his ...</td>\n",
       "      <td>billionaire elon musk added 15 billion wealth ...</td>\n",
       "    </tr>\n",
       "    <tr>\n",
       "      <th>...</th>\n",
       "      <td>...</td>\n",
       "      <td>...</td>\n",
       "      <td>...</td>\n",
       "      <td>...</td>\n",
       "      <td>...</td>\n",
       "    </tr>\n",
       "    <tr>\n",
       "      <th>94</th>\n",
       "      <td>I'm a romantic at heart, that influences my so...</td>\n",
       "      <td>During a recent interview, singer Amaal Mallik...</td>\n",
       "      <td>dure a recent interview singer amaal mallik me...</td>\n",
       "      <td>during a recent interview singer amaal mallik ...</td>\n",
       "      <td>recent interview singer amaal mallik mentioned...</td>\n",
       "    </tr>\n",
       "    <tr>\n",
       "      <th>95</th>\n",
       "      <td>Heroes can be larger than life, but emotions h...</td>\n",
       "      <td>Actor Suriya Sivakumar said he believes that I...</td>\n",
       "      <td>actor suriya sivakumar said he believ that ind...</td>\n",
       "      <td>actor suriya sivakumar said he belief that ind...</td>\n",
       "      <td>actor suriya sivakumar said belief indian film...</td>\n",
       "    </tr>\n",
       "    <tr>\n",
       "      <th>96</th>\n",
       "      <td>Aditya to start shooting for upcoming action f...</td>\n",
       "      <td>Actor Aditya Roy Kapur will start shooting for...</td>\n",
       "      <td>actor aditya roy kapur will start shoot for hi...</td>\n",
       "      <td>actor aditya roy kapur will start shooting for...</td>\n",
       "      <td>actor aditya roy kapur start shooting upcoming...</td>\n",
       "    </tr>\n",
       "    <tr>\n",
       "      <th>97</th>\n",
       "      <td>Feeling a little scared: Neetu on shooting for...</td>\n",
       "      <td>Sharing a picture from the sets of her upcomin...</td>\n",
       "      <td>share a pictur from the set of her upcom film ...</td>\n",
       "      <td>sharing a picture from the set of her upcoming...</td>\n",
       "      <td>sharing picture set upcoming film jug jugg jee...</td>\n",
       "    </tr>\n",
       "    <tr>\n",
       "      <th>98</th>\n",
       "      <td>I'm grateful for the honour: Sood on being nam...</td>\n",
       "      <td>Actor Sonu Sood, who has been appointed as the...</td>\n",
       "      <td>actor sonu sood who ha been appoint as the sta...</td>\n",
       "      <td>actor sonu sood who ha been appointed a the st...</td>\n",
       "      <td>actor sonu sood appointed state icon punjab el...</td>\n",
       "    </tr>\n",
       "  </tbody>\n",
       "</table>\n",
       "<p>99 rows × 5 columns</p>\n",
       "</div>"
      ],
      "text/plain": [
       "                                                title  \\\n",
       "0   Lakshmi Vilas Bank withdrawals capped at ₹25,0...   \n",
       "1   Shutting Delhi markets may prove counterproduc...   \n",
       "2   Pfizer shares drop 4.5% as Moderna says its va...   \n",
       "3   How does Moderna's COVID-19 vaccine candidate ...   \n",
       "4   Musk gets $15bn richer in 2 hours, becomes wor...   \n",
       "..                                                ...   \n",
       "94  I'm a romantic at heart, that influences my so...   \n",
       "95  Heroes can be larger than life, but emotions h...   \n",
       "96  Aditya to start shooting for upcoming action f...   \n",
       "97  Feeling a little scared: Neetu on shooting for...   \n",
       "98  I'm grateful for the honour: Sood on being nam...   \n",
       "\n",
       "                                              content  \\\n",
       "0   The Centre has imposed a 30-day moratorium on ...   \n",
       "1   Traders' body CAIT on Tuesday said a proposal ...   \n",
       "2   Pfizer’s shares fell as much as 4.5% on Monday...   \n",
       "3   Moderna's initial results of late-stage trial ...   \n",
       "4   Billionaire Elon Musk added $15 billion to his...   \n",
       "..                                                ...   \n",
       "94  During a recent interview, singer Amaal Mallik...   \n",
       "95  Actor Suriya Sivakumar said he believes that I...   \n",
       "96  Actor Aditya Roy Kapur will start shooting for...   \n",
       "97  Sharing a picture from the sets of her upcomin...   \n",
       "98  Actor Sonu Sood, who has been appointed as the...   \n",
       "\n",
       "                                              stemmed  \\\n",
       "0   the centr ha impos a 30day moratorium on laksh...   \n",
       "1   trader bodi cait on tuesday said a propos to i...   \n",
       "2   pfizer share fell as much as 45 on monday afte...   \n",
       "3   moderna initi result of latestag trial show it...   \n",
       "4   billionair elon musk ad 15 billion to hi wealt...   \n",
       "..                                                ...   \n",
       "94  dure a recent interview singer amaal mallik me...   \n",
       "95  actor suriya sivakumar said he believ that ind...   \n",
       "96  actor aditya roy kapur will start shoot for hi...   \n",
       "97  share a pictur from the set of her upcom film ...   \n",
       "98  actor sonu sood who ha been appoint as the sta...   \n",
       "\n",
       "                                           lemmatized  \\\n",
       "0   the centre ha imposed a 30day moratorium on la...   \n",
       "1   trader body cait on tuesday said a proposal to...   \n",
       "2   pfizers share fell a much a 45 on monday after...   \n",
       "3   modernas initial result of latestage trial sho...   \n",
       "4   billionaire elon musk added 15 billion to his ...   \n",
       "..                                                ...   \n",
       "94  during a recent interview singer amaal mallik ...   \n",
       "95  actor suriya sivakumar said he belief that ind...   \n",
       "96  actor aditya roy kapur will start shooting for...   \n",
       "97  sharing a picture from the set of her upcoming...   \n",
       "98  actor sonu sood who ha been appointed a the st...   \n",
       "\n",
       "                                                clean  \n",
       "0   imposed 30day moratorium lakshmi vila effectiv...  \n",
       "1   trader body cait tuesday said proposal impose ...  \n",
       "2   pfizers share fell much 45 monday rival modern...  \n",
       "3   modernas initial result latestage trial show c...  \n",
       "4   billionaire elon musk added 15 billion wealth ...  \n",
       "..                                                ...  \n",
       "94  recent interview singer amaal mallik mentioned...  \n",
       "95  actor suriya sivakumar said belief indian film...  \n",
       "96  actor aditya roy kapur start shooting upcoming...  \n",
       "97  sharing picture set upcoming film jug jugg jee...  \n",
       "98  actor sonu sood appointed state icon punjab el...  \n",
       "\n",
       "[99 rows x 5 columns]"
      ]
     },
     "execution_count": 44,
     "metadata": {},
     "output_type": "execute_result"
    }
   ],
   "source": [
    "prep_article_data(df, 'content', extra_words=['centre', 'bank'], exclude_words=['i', 'me'])"
   ]
  }
 ],
 "metadata": {
  "kernelspec": {
   "display_name": "Python 3",
   "language": "python",
   "name": "python3"
  },
  "language_info": {
   "codemirror_mode": {
    "name": "ipython",
    "version": 3
   },
   "file_extension": ".py",
   "mimetype": "text/x-python",
   "name": "python",
   "nbconvert_exporter": "python",
   "pygments_lexer": "ipython3",
   "version": "3.7.9"
  }
 },
 "nbformat": 4,
 "nbformat_minor": 4
}
