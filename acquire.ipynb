{
 "cells": [
  {
   "cell_type": "markdown",
   "metadata": {},
   "source": [
    "By the end of this exercise, you should have a file named acquire.py that contains the specified functions. If you wish, you may break your work into separate files for each website (e.g. acquire_codeup_blog.py and acquire_news_articles.py), but the end function should be present in acquire.py (that is, acquire.py should import get_blog_articles from the acquire_codeup_blog module.)"
   ]
  },
  {
   "cell_type": "code",
   "execution_count": 2,
   "metadata": {},
   "outputs": [],
   "source": [
    "import pandas as pd\n",
    "import numpy as np\n",
    "\n",
    "from requests import get\n",
    "import re\n",
    "from bs4 import BeautifulSoup\n",
    "import os"
   ]
  },
  {
   "cell_type": "markdown",
   "metadata": {},
   "source": [
    "## Exercise 1\n",
    "Codeup Blog Articles\n",
    "\n",
    "Scrape the article text from the following pages:\n",
    "\n",
    "- https://codeup.com/codeups-data-science-career-accelerator-is-here/\n",
    "- https://codeup.com/data-science-myths/\n",
    "- https://codeup.com/data-science-vs-data-analytics-whats-the-difference/\n",
    "- https://codeup.com/10-tips-to-crush-it-at-the-sa-tech-job-fair/\n",
    "- https://codeup.com/competitor-bootcamps-are-closing-is-the-model-in-danger/\n",
    "\n",
    "\n",
    "Encapsulate your work in a function named get_blog_articles that will return a list of dictionaries, with each dictionary representing one article. The shape of each dictionary should look like this:\n",
    "\n",
    "{\n",
    "    'title': 'the title of the article',\n",
    "    'content': 'the full text content of the article'\n",
    "}\n",
    "Plus any additional properties you think might be helpful."
   ]
  },
  {
   "cell_type": "code",
   "execution_count": 3,
   "metadata": {},
   "outputs": [
    {
     "data": {
      "text/plain": [
       "True"
      ]
     },
     "execution_count": 3,
     "metadata": {},
     "output_type": "execute_result"
    }
   ],
   "source": [
    "url = 'https://codeup.com/codeups-data-science-career-accelerator-is-here/'\n",
    "headers = {'User-Agent': 'Codeup Data Science'} \n",
    "    \n",
    "response = get(url, headers=headers)\n",
    "response.ok"
   ]
  },
  {
   "cell_type": "code",
   "execution_count": 4,
   "metadata": {},
   "outputs": [
    {
     "name": "stdout",
     "output_type": "stream",
     "text": [
      "<class 'str'>\n"
     ]
    }
   ],
   "source": [
    "# Here's our long string of HTML; we'll use response.text to make our soup object.\n",
    "#response.text gives all of the text provided in the article\n",
    "print(type(response.text))"
   ]
  },
  {
   "cell_type": "code",
   "execution_count": 5,
   "metadata": {},
   "outputs": [
    {
     "name": "stdout",
     "output_type": "stream",
     "text": [
      "<class 'bs4.BeautifulSoup'>\n"
     ]
    }
   ],
   "source": [
    "# Create our Soup object by passing our HTML string and choice of parser.\n",
    "\n",
    "soup = BeautifulSoup(response.text, 'html.parser')\n",
    "\n",
    "# Now we have our BeautifulSoup object and can use its built-in methods and attributes.\n",
    "\n",
    "print(type(soup))"
   ]
  },
  {
   "cell_type": "code",
   "execution_count": 6,
   "metadata": {},
   "outputs": [
    {
     "data": {
      "text/plain": [
       "'Codeup’s Data Science Career Accelerator is Here!'"
      ]
     },
     "execution_count": 6,
     "metadata": {},
     "output_type": "execute_result"
    }
   ],
   "source": [
    "title = soup.find('h1').text\n",
    "title"
   ]
  },
  {
   "cell_type": "code",
   "execution_count": 8,
   "metadata": {},
   "outputs": [
    {
     "name": "stdout",
     "output_type": "stream",
     "text": [
      "The rumors are true! The time has arrived. Codeup has officially opened applications to our new Data Science career accelerator, with only 25 seats available! This immersive program is one of a kind in San Antonio, and will help you land a job in Glassdoor’s #1 Best Job in America.\n",
      "Data Science is a method of providing actionable intelligence from data. The data revolution has hit San Antonio, resulting in an explosion in Data Scientist positions across companies like USAA, Accenture, Booz Allen Hamilton, and HEB. We’ve even seen UTSA invest $70 M for a Cybersecurity Center and School of Data Science. We built a program to specifically meet the growing demands of this industry.\n",
      "Our program will be 18 weeks long, full-time, hands-on, and project-based. Our curriculum development and instruction is led by Senior Data Scientist, Maggie Giust, who has worked at HEB, Capital Group, and Rackspace, along with input from dozens of practitioners and hiring partners. Students will work with real data sets, realistic problems, and the entire data science pipeline from collection to deployment. They will receive professional development training in resume writing, interviewing, and continuing education to prepare for a smooth transition to the workforce.\n",
      "We focus on applied data science for immediate impact and ROI in a business, which is how we can back it all up with a 6 month tuition refund guarantee – just like our existing Web Dev program. We’re focusing on Data Science with Python, SQL, and ML, covered in 14 modules: 1) Fundamentals; 2) Applied statistics; 3) SQL; 4) Python; 5) Supervised machine learning – regression; 6) Supervised machine learning – classification; 7) Unsupervised machine learning – clustering; 8) Time series analysis; 9) Anomaly detection; 10) Natural language processing; 11) Distributed machine learning; 12) Advanced topics (deep learning, NoSQL, cloud deployment, etc.); 13) Storytelling with data; and 14) Domain expertise development.\n",
      "Applications are now open for Codeup’s first Data Science cohort, which will start class on February 4, 2019. Hurry – there are only 25 seats available! To further our mission of cultivating inclusive growth, scholarships will be available to women, minorities, LGBTQIA+ individuals, veterans, first responders, and people relocating to San Antonio.\n",
      "If you want to learn about joining our program or hiring our graduates, email datascience@codeup.com!\n",
      "\n",
      "\n"
     ]
    }
   ],
   "source": [
    "# beautiful soup uses `class_` as the keyword argument for searching\n",
    "# for a class because `class` is a reserved word in python\n",
    "# we'll use the class name that we identified from looking in the inspector in chrome\n",
    "content = soup.find('div', class_=\"jupiterx-post-content\").text\n",
    "print(content)"
   ]
  },
  {
   "cell_type": "code",
   "execution_count": 9,
   "metadata": {},
   "outputs": [
    {
     "name": "stdout",
     "output_type": "stream",
     "text": [
      "<class 'str'>\n"
     ]
    }
   ],
   "source": [
    "print(type(content))"
   ]
  },
  {
   "cell_type": "code",
   "execution_count": 10,
   "metadata": {},
   "outputs": [],
   "source": [
    "# Create a helper function that requests and parses HTML returning a soup object.\n",
    "\n",
    "def make_soup(url):\n",
    "    '''\n",
    "    This helper function takes in a url and requests and parses HTML\n",
    "    returning a soup object.\n",
    "    '''\n",
    "    headers = {'User-Agent': 'Codeup Data Science'} \n",
    "    response = get(url, headers=headers)\n",
    "    soup = BeautifulSoup(response.text, 'html.parser')\n",
    "    return soup"
   ]
  },
  {
   "cell_type": "code",
   "execution_count": 11,
   "metadata": {},
   "outputs": [],
   "source": [
    "def get_blog_articles(urls, cached=False):\n",
    "    '''\n",
    "    This function takes in a list of Codeup Blog urls and a parameter\n",
    "    with default cached == False which scrapes the title and text for each url, \n",
    "    creates a list of dictionaries with the title and text for each blog, \n",
    "    converts list to df, and returns df.\n",
    "    If cached == True, the function returns a df from a json file.\n",
    "    '''\n",
    "    if cached == True:\n",
    "        df = pd.read_json('big_blogs.json')\n",
    "        \n",
    "    # cached == False completes a fresh scrape for df     \n",
    "    else:\n",
    "\n",
    "        # Create an empty list to hold dictionaries\n",
    "        articles = []\n",
    "\n",
    "        # Loop through each url in our list of urls\n",
    "        for url in urls:\n",
    "\n",
    "            # Make request and soup object using helper\n",
    "            soup = make_soup(url)\n",
    "\n",
    "            # Save the title of each blog in variable title\n",
    "            title = soup.find('h1').text\n",
    "\n",
    "            # Save the text in each blog to variable text\n",
    "            content = soup.find('div', class_=\"jupiterx-post-content\").text\n",
    "\n",
    "            # Create a dictionary holding the title and content for each blog\n",
    "            article = {'title': title, 'content': content}\n",
    "\n",
    "            # Add each dictionary to the articles list of dictionaries\n",
    "            articles.append(article)\n",
    "            \n",
    "        # convert our list of dictionaries to a df\n",
    "        df = pd.DataFrame(articles)\n",
    "\n",
    "        # Write df to a json file for faster access\n",
    "        df.to_json('big_blogs.json')\n",
    "    \n",
    "    return df"
   ]
  },
  {
   "cell_type": "code",
   "execution_count": 12,
   "metadata": {},
   "outputs": [
    {
     "data": {
      "text/html": [
       "<div>\n",
       "<style scoped>\n",
       "    .dataframe tbody tr th:only-of-type {\n",
       "        vertical-align: middle;\n",
       "    }\n",
       "\n",
       "    .dataframe tbody tr th {\n",
       "        vertical-align: top;\n",
       "    }\n",
       "\n",
       "    .dataframe thead th {\n",
       "        text-align: right;\n",
       "    }\n",
       "</style>\n",
       "<table border=\"1\" class=\"dataframe\">\n",
       "  <thead>\n",
       "    <tr style=\"text-align: right;\">\n",
       "      <th></th>\n",
       "      <th>title</th>\n",
       "      <th>content</th>\n",
       "    </tr>\n",
       "  </thead>\n",
       "  <tbody>\n",
       "    <tr>\n",
       "      <th>0</th>\n",
       "      <td>Codeup’s Data Science Career Accelerator is Here!</td>\n",
       "      <td>The rumors are true! The time has arrived. Cod...</td>\n",
       "    </tr>\n",
       "    <tr>\n",
       "      <th>1</th>\n",
       "      <td>Data Science Myths</td>\n",
       "      <td>By Dimitri Antoniou and Maggie Giust\\nData Sci...</td>\n",
       "    </tr>\n",
       "    <tr>\n",
       "      <th>2</th>\n",
       "      <td>Data Science VS Data Analytics: What’s The Dif...</td>\n",
       "      <td>By Dimitri Antoniou\\nA week ago, Codeup launch...</td>\n",
       "    </tr>\n",
       "    <tr>\n",
       "      <th>3</th>\n",
       "      <td>10 Tips to Crush It at the SA Tech Job Fair</td>\n",
       "      <td>SA Tech Job Fair\\nThe third bi-annual San Anto...</td>\n",
       "    </tr>\n",
       "    <tr>\n",
       "      <th>4</th>\n",
       "      <td>Competitor Bootcamps Are Closing. Is the Model...</td>\n",
       "      <td>Competitor Bootcamps Are Closing. Is the Model...</td>\n",
       "    </tr>\n",
       "  </tbody>\n",
       "</table>\n",
       "</div>"
      ],
      "text/plain": [
       "                                               title  \\\n",
       "0  Codeup’s Data Science Career Accelerator is Here!   \n",
       "1                                 Data Science Myths   \n",
       "2  Data Science VS Data Analytics: What’s The Dif...   \n",
       "3        10 Tips to Crush It at the SA Tech Job Fair   \n",
       "4  Competitor Bootcamps Are Closing. Is the Model...   \n",
       "\n",
       "                                             content  \n",
       "0  The rumors are true! The time has arrived. Cod...  \n",
       "1  By Dimitri Antoniou and Maggie Giust\\nData Sci...  \n",
       "2  By Dimitri Antoniou\\nA week ago, Codeup launch...  \n",
       "3  SA Tech Job Fair\\nThe third bi-annual San Anto...  \n",
       "4  Competitor Bootcamps Are Closing. Is the Model...  "
      ]
     },
     "execution_count": 12,
     "metadata": {},
     "output_type": "execute_result"
    }
   ],
   "source": [
    "# Here cached == False, so the function will do a fresh scrape of the urls and write data to a json file.\n",
    "\n",
    "urls = ['https://codeup.com/codeups-data-science-career-accelerator-is-here/',\n",
    "        'https://codeup.com/data-science-myths/',\n",
    "        'https://codeup.com/data-science-vs-data-analytics-whats-the-difference/',\n",
    "        'https://codeup.com/10-tips-to-crush-it-at-the-sa-tech-job-fair/',\n",
    "        'https://codeup.com/competitor-bootcamps-are-closing-is-the-model-in-danger/']\n",
    "\n",
    "blogs = get_blog_articles(urls=urls, cached=False)\n",
    "blogs"
   ]
  },
  {
   "cell_type": "markdown",
   "metadata": {},
   "source": [
    "## Bonus:\n",
    "\n",
    "Scrape the text of all the articles linked on codeup's blog page."
   ]
  },
  {
   "cell_type": "code",
   "execution_count": 13,
   "metadata": {},
   "outputs": [],
   "source": [
    "# I'm going to hit Codeup's main blog page to scrape the urls and use my new function.\n",
    "\n",
    "url = 'https://codeup.com/resources/#blog'\n",
    "soup = make_soup(url)"
   ]
  },
  {
   "cell_type": "code",
   "execution_count": 14,
   "metadata": {},
   "outputs": [
    {
     "data": {
      "text/plain": [
       "[<a class=\"jet-listing-dynamic-link__link\" href=\"https://codeup.com/introducing-salary-refund-guarantee/\"><span class=\"jet-listing-dynamic-link__label\">Introducing Our Salary Refund Guarantee</span></a>,\n",
       " <a class=\"jet-listing-dynamic-link__link\" href=\"https://codeup.com/introducing-salary-refund-guarantee/\"><span class=\"jet-listing-dynamic-link__label\">Read More</span></a>]"
      ]
     },
     "execution_count": 14,
     "metadata": {},
     "output_type": "execute_result"
    }
   ],
   "source": [
    "# I'm filtering my soup to return a list of all anchor elements from my HTML. (view first 2)\n",
    "\n",
    "urls_list = soup.find_all('a', class_='jet-listing-dynamic-link__link')\n",
    "urls_list[:2]"
   ]
  },
  {
   "cell_type": "code",
   "execution_count": 15,
   "metadata": {},
   "outputs": [
    {
     "data": {
      "text/plain": [
       "40"
      ]
     },
     "execution_count": 15,
     "metadata": {},
     "output_type": "execute_result"
    }
   ],
   "source": [
    "len(urls_list)"
   ]
  },
  {
   "cell_type": "code",
   "execution_count": 16,
   "metadata": {},
   "outputs": [
    {
     "name": "stdout",
     "output_type": "stream",
     "text": [
      "There are 20 unique links in our urls list.\n",
      "\n"
     ]
    },
    {
     "data": {
      "text/plain": [
       "['https://codeup.com/transition-into-data-science/',\n",
       " 'https://codeup.com/codeup-inc-5000/',\n",
       " 'https://codeup.com/math-in-data-science/',\n",
       " 'https://codeup.com/journey-into-web-development/',\n",
       " 'https://codeup.com/new-scholarship/',\n",
       " 'https://codeup.com/introducing-salary-refund-guarantee/',\n",
       " 'https://codeup.com/codeups-application-process/',\n",
       " 'https://codeup.com/what-is-machine-learning/',\n",
       " 'https://codeup.com/what-data-science-career-is-for-you/',\n",
       " 'https://codeup.com/build-your-career-in-tech/',\n",
       " 'https://codeup.com/from-slacker-to-data-scientist/',\n",
       " 'https://codeup.com/covid-19-data-challenge/',\n",
       " 'https://codeup.com/education-is-an-investment/',\n",
       " 'https://codeup.com/succeed-in-a-coding-bootcamp/',\n",
       " 'https://codeup.com/how-were-celebrating-world-mental-health-day-from-home/',\n",
       " 'https://codeup.com/codeup-in-houston/',\n",
       " 'https://codeup.com/codeup-alumni-make-water/',\n",
       " 'https://codeup.com/what-is-python/',\n",
       " 'https://codeup.com/codeup-wins-civtech-datathon/',\n",
       " 'https://codeup.com/what-to-expect-at-codeup/']"
      ]
     },
     "execution_count": 16,
     "metadata": {},
     "output_type": "execute_result"
    }
   ],
   "source": [
    "# Filter the href attribute value for each anchor element in my list; we scraped 40 urls.\n",
    "\n",
    "# I'm using a set comprehension to return only unique urls because there are two links for each article.\n",
    "urls = {link.get('href') for link in urls_list}\n",
    "\n",
    "# I'm converting my set to a list of urls.\n",
    "urls = list(urls)\n",
    "\n",
    "print(f'There are {len(urls)} unique links in our urls list.')\n",
    "print()\n",
    "urls"
   ]
  },
  {
   "cell_type": "code",
   "execution_count": 17,
   "metadata": {},
   "outputs": [],
   "source": [
    "def get_all_urls():\n",
    "    '''\n",
    "    This function scrapes all of the Codeup blog urls from\n",
    "    the main Codeup blog page and returns a list of urls.\n",
    "    '''\n",
    "    # The base url for the main Codeup blog page\n",
    "    url = 'https://codeup.com/resources/#blog' \n",
    "    \n",
    "    # Make request and soup object using helper\n",
    "    soup = make_soup(url)\n",
    "    \n",
    "    # Create a list of the anchor elements that hold the urls.\n",
    "    urls_list = soup.find_all('a', class_='jet-listing-dynamic-link__link')\n",
    "    \n",
    "    # I'm using a set comprehension to return only unique urls because list contains duplicate urls.\n",
    "    urls = {link.get('href') for link in urls_list}\n",
    "\n",
    "    # I'm converting my set to a list of urls.\n",
    "    urls = list(urls)\n",
    "        \n",
    "    return urls"
   ]
  },
  {
   "cell_type": "code",
   "execution_count": 18,
   "metadata": {},
   "outputs": [],
   "source": [
    "# Now I can use my same function with my new function.\n",
    "# cached == False does a fresh scrape.\n",
    "\n",
    "big_blogs = get_blog_articles(urls=get_all_urls(), cached=False)"
   ]
  },
  {
   "cell_type": "code",
   "execution_count": 19,
   "metadata": {},
   "outputs": [
    {
     "data": {
      "text/html": [
       "<div>\n",
       "<style scoped>\n",
       "    .dataframe tbody tr th:only-of-type {\n",
       "        vertical-align: middle;\n",
       "    }\n",
       "\n",
       "    .dataframe tbody tr th {\n",
       "        vertical-align: top;\n",
       "    }\n",
       "\n",
       "    .dataframe thead th {\n",
       "        text-align: right;\n",
       "    }\n",
       "</style>\n",
       "<table border=\"1\" class=\"dataframe\">\n",
       "  <thead>\n",
       "    <tr style=\"text-align: right;\">\n",
       "      <th></th>\n",
       "      <th>title</th>\n",
       "      <th>content</th>\n",
       "    </tr>\n",
       "  </thead>\n",
       "  <tbody>\n",
       "    <tr>\n",
       "      <th>0</th>\n",
       "      <td>What is the Transition into Data Science Like?</td>\n",
       "      <td>Alumni Katy Salts and Brandi Reger joined us a...</td>\n",
       "    </tr>\n",
       "    <tr>\n",
       "      <th>1</th>\n",
       "      <td>Codeup on Inc. 5000 Fastest Growing Private Co...</td>\n",
       "      <td>We’re excited to announce a huge Codeup achiev...</td>\n",
       "    </tr>\n",
       "    <tr>\n",
       "      <th>2</th>\n",
       "      <td>What are the Math and Stats Principles You Nee...</td>\n",
       "      <td>Coming into our Data Science program, you will...</td>\n",
       "    </tr>\n",
       "    <tr>\n",
       "      <th>3</th>\n",
       "      <td>Alumni Share their Journey into Web Development</td>\n",
       "      <td>Everyone starts somewhere. Many developers out...</td>\n",
       "    </tr>\n",
       "    <tr>\n",
       "      <th>4</th>\n",
       "      <td>Announcing: The Annie Easley Scholarship to Su...</td>\n",
       "      <td>We have an exciting announcement! We’re launch...</td>\n",
       "    </tr>\n",
       "    <tr>\n",
       "      <th>5</th>\n",
       "      <td>Introducing Our Salary Refund Guarantee</td>\n",
       "      <td>Here at Codeup, we believe it’s time to revolu...</td>\n",
       "    </tr>\n",
       "    <tr>\n",
       "      <th>6</th>\n",
       "      <td>What is Codeup’s Application Process?</td>\n",
       "      <td>Curious about Codeup’s application process? Wo...</td>\n",
       "    </tr>\n",
       "    <tr>\n",
       "      <th>7</th>\n",
       "      <td>What is Machine Learning?</td>\n",
       "      <td>There’s a lot we can learn about machines, and...</td>\n",
       "    </tr>\n",
       "    <tr>\n",
       "      <th>8</th>\n",
       "      <td>What Data Science Career is For You?</td>\n",
       "      <td>If you’re struggling to see yourself as a data...</td>\n",
       "    </tr>\n",
       "    <tr>\n",
       "      <th>9</th>\n",
       "      <td>Build Your Career in Tech: Advice from Alumni!</td>\n",
       "      <td>Bryan Walsh, Codeup Web Development alum, and ...</td>\n",
       "    </tr>\n",
       "    <tr>\n",
       "      <th>10</th>\n",
       "      <td>From Slacker to Data Scientist: Journey to Dat...</td>\n",
       "      <td>Butterflies in my belly; my stomach is tied up...</td>\n",
       "    </tr>\n",
       "    <tr>\n",
       "      <th>11</th>\n",
       "      <td>How Codeup Alumni Helped Dallas Youth Fight CO...</td>\n",
       "      <td>Three of our Web Development alumni from Dalla...</td>\n",
       "    </tr>\n",
       "    <tr>\n",
       "      <th>12</th>\n",
       "      <td>Your Education is an Investment</td>\n",
       "      <td>You have many options regarding educational ro...</td>\n",
       "    </tr>\n",
       "    <tr>\n",
       "      <th>13</th>\n",
       "      <td>How to Succeed in a Coding Bootcamp</td>\n",
       "      <td>We held a virtual event called “How to Succeed...</td>\n",
       "    </tr>\n",
       "    <tr>\n",
       "      <th>14</th>\n",
       "      <td>How We’re Celebrating World Mental Health Day ...</td>\n",
       "      <td>World Mental Health Day is on October 10th. Al...</td>\n",
       "    </tr>\n",
       "    <tr>\n",
       "      <th>15</th>\n",
       "      <td>Codeup Launches Houston!</td>\n",
       "      <td>Houston, we have a problem: there aren’t enoug...</td>\n",
       "    </tr>\n",
       "    <tr>\n",
       "      <th>16</th>\n",
       "      <td>How Codeup Alumni are Helping to Make Water</td>\n",
       "      <td>Imagine having a kit mailed to you with all th...</td>\n",
       "    </tr>\n",
       "    <tr>\n",
       "      <th>17</th>\n",
       "      <td>What is Python?</td>\n",
       "      <td>If you’ve been digging around our website or r...</td>\n",
       "    </tr>\n",
       "    <tr>\n",
       "      <th>18</th>\n",
       "      <td>Codeup Grads Win CivTech Datathon</td>\n",
       "      <td>Many Codeup alumni enjoy competing in hackatho...</td>\n",
       "    </tr>\n",
       "    <tr>\n",
       "      <th>19</th>\n",
       "      <td>What to Expect at Codeup</td>\n",
       "      <td>Setting Expectations for Life Before, During, ...</td>\n",
       "    </tr>\n",
       "  </tbody>\n",
       "</table>\n",
       "</div>"
      ],
      "text/plain": [
       "                                                title  \\\n",
       "0      What is the Transition into Data Science Like?   \n",
       "1   Codeup on Inc. 5000 Fastest Growing Private Co...   \n",
       "2   What are the Math and Stats Principles You Nee...   \n",
       "3     Alumni Share their Journey into Web Development   \n",
       "4   Announcing: The Annie Easley Scholarship to Su...   \n",
       "5             Introducing Our Salary Refund Guarantee   \n",
       "6               What is Codeup’s Application Process?   \n",
       "7                           What is Machine Learning?   \n",
       "8                What Data Science Career is For You?   \n",
       "9      Build Your Career in Tech: Advice from Alumni!   \n",
       "10  From Slacker to Data Scientist: Journey to Dat...   \n",
       "11  How Codeup Alumni Helped Dallas Youth Fight CO...   \n",
       "12                    Your Education is an Investment   \n",
       "13                How to Succeed in a Coding Bootcamp   \n",
       "14  How We’re Celebrating World Mental Health Day ...   \n",
       "15                           Codeup Launches Houston!   \n",
       "16        How Codeup Alumni are Helping to Make Water   \n",
       "17                                    What is Python?   \n",
       "18                  Codeup Grads Win CivTech Datathon   \n",
       "19                           What to Expect at Codeup   \n",
       "\n",
       "                                              content  \n",
       "0   Alumni Katy Salts and Brandi Reger joined us a...  \n",
       "1   We’re excited to announce a huge Codeup achiev...  \n",
       "2   Coming into our Data Science program, you will...  \n",
       "3   Everyone starts somewhere. Many developers out...  \n",
       "4   We have an exciting announcement! We’re launch...  \n",
       "5   Here at Codeup, we believe it’s time to revolu...  \n",
       "6   Curious about Codeup’s application process? Wo...  \n",
       "7   There’s a lot we can learn about machines, and...  \n",
       "8   If you’re struggling to see yourself as a data...  \n",
       "9   Bryan Walsh, Codeup Web Development alum, and ...  \n",
       "10  Butterflies in my belly; my stomach is tied up...  \n",
       "11  Three of our Web Development alumni from Dalla...  \n",
       "12  You have many options regarding educational ro...  \n",
       "13  We held a virtual event called “How to Succeed...  \n",
       "14  World Mental Health Day is on October 10th. Al...  \n",
       "15  Houston, we have a problem: there aren’t enoug...  \n",
       "16  Imagine having a kit mailed to you with all th...  \n",
       "17  If you’ve been digging around our website or r...  \n",
       "18  Many Codeup alumni enjoy competing in hackatho...  \n",
       "19  Setting Expectations for Life Before, During, ...  "
      ]
     },
     "execution_count": 19,
     "metadata": {},
     "output_type": "execute_result"
    }
   ],
   "source": [
    "big_blogs"
   ]
  },
  {
   "cell_type": "code",
   "execution_count": 20,
   "metadata": {},
   "outputs": [
    {
     "name": "stdout",
     "output_type": "stream",
     "text": [
      "<class 'pandas.core.frame.DataFrame'>\n",
      "RangeIndex: 20 entries, 0 to 19\n",
      "Data columns (total 2 columns):\n",
      " #   Column   Non-Null Count  Dtype \n",
      "---  ------   --------------  ----- \n",
      " 0   title    20 non-null     object\n",
      " 1   content  20 non-null     object\n",
      "dtypes: object(2)\n",
      "memory usage: 448.0+ bytes\n"
     ]
    }
   ],
   "source": [
    "big_blogs.info()"
   ]
  },
  {
   "cell_type": "code",
   "execution_count": 21,
   "metadata": {},
   "outputs": [
    {
     "data": {
      "text/html": [
       "<div>\n",
       "<style scoped>\n",
       "    .dataframe tbody tr th:only-of-type {\n",
       "        vertical-align: middle;\n",
       "    }\n",
       "\n",
       "    .dataframe tbody tr th {\n",
       "        vertical-align: top;\n",
       "    }\n",
       "\n",
       "    .dataframe thead th {\n",
       "        text-align: right;\n",
       "    }\n",
       "</style>\n",
       "<table border=\"1\" class=\"dataframe\">\n",
       "  <thead>\n",
       "    <tr style=\"text-align: right;\">\n",
       "      <th></th>\n",
       "      <th>title</th>\n",
       "      <th>content</th>\n",
       "    </tr>\n",
       "  </thead>\n",
       "  <tbody>\n",
       "    <tr>\n",
       "      <th>0</th>\n",
       "      <td>What is the Transition into Data Science Like?</td>\n",
       "      <td>Alumni Katy Salts and Brandi Reger joined us a...</td>\n",
       "    </tr>\n",
       "    <tr>\n",
       "      <th>1</th>\n",
       "      <td>Codeup on Inc. 5000 Fastest Growing Private Co...</td>\n",
       "      <td>We’re excited to announce a huge Codeup achiev...</td>\n",
       "    </tr>\n",
       "    <tr>\n",
       "      <th>2</th>\n",
       "      <td>What are the Math and Stats Principles You Nee...</td>\n",
       "      <td>Coming into our Data Science program, you will...</td>\n",
       "    </tr>\n",
       "    <tr>\n",
       "      <th>3</th>\n",
       "      <td>Alumni Share their Journey into Web Development</td>\n",
       "      <td>Everyone starts somewhere. Many developers out...</td>\n",
       "    </tr>\n",
       "    <tr>\n",
       "      <th>4</th>\n",
       "      <td>Announcing: The Annie Easley Scholarship to Su...</td>\n",
       "      <td>We have an exciting announcement! We’re launch...</td>\n",
       "    </tr>\n",
       "    <tr>\n",
       "      <th>5</th>\n",
       "      <td>Introducing Our Salary Refund Guarantee</td>\n",
       "      <td>Here at Codeup, we believe it’s time to revolu...</td>\n",
       "    </tr>\n",
       "    <tr>\n",
       "      <th>6</th>\n",
       "      <td>What is Codeup’s Application Process?</td>\n",
       "      <td>Curious about Codeup’s application process? Wo...</td>\n",
       "    </tr>\n",
       "    <tr>\n",
       "      <th>7</th>\n",
       "      <td>What is Machine Learning?</td>\n",
       "      <td>There’s a lot we can learn about machines, and...</td>\n",
       "    </tr>\n",
       "    <tr>\n",
       "      <th>8</th>\n",
       "      <td>What Data Science Career is For You?</td>\n",
       "      <td>If you’re struggling to see yourself as a data...</td>\n",
       "    </tr>\n",
       "    <tr>\n",
       "      <th>9</th>\n",
       "      <td>Build Your Career in Tech: Advice from Alumni!</td>\n",
       "      <td>Bryan Walsh, Codeup Web Development alum, and ...</td>\n",
       "    </tr>\n",
       "    <tr>\n",
       "      <th>10</th>\n",
       "      <td>From Slacker to Data Scientist: Journey to Dat...</td>\n",
       "      <td>Butterflies in my belly; my stomach is tied up...</td>\n",
       "    </tr>\n",
       "    <tr>\n",
       "      <th>11</th>\n",
       "      <td>How Codeup Alumni Helped Dallas Youth Fight CO...</td>\n",
       "      <td>Three of our Web Development alumni from Dalla...</td>\n",
       "    </tr>\n",
       "    <tr>\n",
       "      <th>12</th>\n",
       "      <td>Your Education is an Investment</td>\n",
       "      <td>You have many options regarding educational ro...</td>\n",
       "    </tr>\n",
       "    <tr>\n",
       "      <th>13</th>\n",
       "      <td>How to Succeed in a Coding Bootcamp</td>\n",
       "      <td>We held a virtual event called “How to Succeed...</td>\n",
       "    </tr>\n",
       "    <tr>\n",
       "      <th>14</th>\n",
       "      <td>How We’re Celebrating World Mental Health Day ...</td>\n",
       "      <td>World Mental Health Day is on October 10th. Al...</td>\n",
       "    </tr>\n",
       "    <tr>\n",
       "      <th>15</th>\n",
       "      <td>Codeup Launches Houston!</td>\n",
       "      <td>Houston, we have a problem: there aren’t enoug...</td>\n",
       "    </tr>\n",
       "    <tr>\n",
       "      <th>16</th>\n",
       "      <td>How Codeup Alumni are Helping to Make Water</td>\n",
       "      <td>Imagine having a kit mailed to you with all th...</td>\n",
       "    </tr>\n",
       "    <tr>\n",
       "      <th>17</th>\n",
       "      <td>What is Python?</td>\n",
       "      <td>If you’ve been digging around our website or r...</td>\n",
       "    </tr>\n",
       "    <tr>\n",
       "      <th>18</th>\n",
       "      <td>Codeup Grads Win CivTech Datathon</td>\n",
       "      <td>Many Codeup alumni enjoy competing in hackatho...</td>\n",
       "    </tr>\n",
       "    <tr>\n",
       "      <th>19</th>\n",
       "      <td>What to Expect at Codeup</td>\n",
       "      <td>Setting Expectations for Life Before, During, ...</td>\n",
       "    </tr>\n",
       "  </tbody>\n",
       "</table>\n",
       "</div>"
      ],
      "text/plain": [
       "                                                title  \\\n",
       "0      What is the Transition into Data Science Like?   \n",
       "1   Codeup on Inc. 5000 Fastest Growing Private Co...   \n",
       "2   What are the Math and Stats Principles You Nee...   \n",
       "3     Alumni Share their Journey into Web Development   \n",
       "4   Announcing: The Annie Easley Scholarship to Su...   \n",
       "5             Introducing Our Salary Refund Guarantee   \n",
       "6               What is Codeup’s Application Process?   \n",
       "7                           What is Machine Learning?   \n",
       "8                What Data Science Career is For You?   \n",
       "9      Build Your Career in Tech: Advice from Alumni!   \n",
       "10  From Slacker to Data Scientist: Journey to Dat...   \n",
       "11  How Codeup Alumni Helped Dallas Youth Fight CO...   \n",
       "12                    Your Education is an Investment   \n",
       "13                How to Succeed in a Coding Bootcamp   \n",
       "14  How We’re Celebrating World Mental Health Day ...   \n",
       "15                           Codeup Launches Houston!   \n",
       "16        How Codeup Alumni are Helping to Make Water   \n",
       "17                                    What is Python?   \n",
       "18                  Codeup Grads Win CivTech Datathon   \n",
       "19                           What to Expect at Codeup   \n",
       "\n",
       "                                              content  \n",
       "0   Alumni Katy Salts and Brandi Reger joined us a...  \n",
       "1   We’re excited to announce a huge Codeup achiev...  \n",
       "2   Coming into our Data Science program, you will...  \n",
       "3   Everyone starts somewhere. Many developers out...  \n",
       "4   We have an exciting announcement! We’re launch...  \n",
       "5   Here at Codeup, we believe it’s time to revolu...  \n",
       "6   Curious about Codeup’s application process? Wo...  \n",
       "7   There’s a lot we can learn about machines, and...  \n",
       "8   If you’re struggling to see yourself as a data...  \n",
       "9   Bryan Walsh, Codeup Web Development alum, and ...  \n",
       "10  Butterflies in my belly; my stomach is tied up...  \n",
       "11  Three of our Web Development alumni from Dalla...  \n",
       "12  You have many options regarding educational ro...  \n",
       "13  We held a virtual event called “How to Succeed...  \n",
       "14  World Mental Health Day is on October 10th. Al...  \n",
       "15  Houston, we have a problem: there aren’t enoug...  \n",
       "16  Imagine having a kit mailed to you with all th...  \n",
       "17  If you’ve been digging around our website or r...  \n",
       "18  Many Codeup alumni enjoy competing in hackatho...  \n",
       "19  Setting Expectations for Life Before, During, ...  "
      ]
     },
     "execution_count": 21,
     "metadata": {},
     "output_type": "execute_result"
    }
   ],
   "source": [
    "# cached == True reads in a df from `big_blogs.json`.\n",
    "\n",
    "big_blogs = get_blog_articles(urls=get_all_urls(), cached=True)\n",
    "big_blogs"
   ]
  },
  {
   "cell_type": "markdown",
   "metadata": {},
   "source": [
    "## Exercise 2\n",
    "News Articles\n",
    "\n",
    "We will now be scraping text data from inshorts, a website that provides a brief overview of many different topics.\n",
    "\n",
    "Write a function that scrapes the news articles for the following topics:\n",
    "\n",
    "- Business\n",
    "- Sports\n",
    "- Technology\n",
    "- Entertainment\n",
    "\n",
    "The end product of this should be a function named get_news_articles that returns a list of dictionaries, where each dictionary has this shape:\n",
    "\n",
    "{\n",
    "    'title': 'The article title',\n",
    "    'content': 'The article content',\n",
    "    'category': 'business' # for example\n",
    "}\n",
    "\n",
    "- Hints:\n",
    "\n",
    "    - Start by inspecting the website in your browser. Figure out which elements will be useful.\n",
    "    - Start by creating a function that handles a single article and produces a dictionary like the one above.\n",
    "    - Next create a function that will find all the articles on a single page and call the function you created in the last step for every article on the page.\n",
    "    - Now create a function that will use the previous two functions to scrape the articles from all the pages that you need, and do any additional processing that needs to be done."
   ]
  },
  {
   "cell_type": "code",
   "execution_count": 22,
   "metadata": {},
   "outputs": [],
   "source": [
    "# Make the soup object using my function.\n",
    "\n",
    "url = 'https://inshorts.com/en/read/entertainment'\n",
    "soup = make_soup(url)"
   ]
  },
  {
   "cell_type": "code",
   "execution_count": 23,
   "metadata": {},
   "outputs": [
    {
     "name": "stdout",
     "output_type": "stream",
     "text": [
      "There are 24 news cards on this page.\n",
      "\n"
     ]
    },
    {
     "data": {
      "text/plain": [
       "<div class=\"news-card z-depth-1\" itemscope=\"\" itemtype=\"http://schema.org/NewsArticle\">\n",
       "<span content=\"\" itemid=\"https://inshorts.com/en/news/tamil-actors-video-amid-cancer-treatment-surfaces-fans-say-he-looks-skinny-1605583414590\" itemprop=\"mainEntityOfPage\" itemscope=\"\" itemtype=\"https://schema.org/WebPage\"></span>\n",
       "<span itemprop=\"author\" itemscope=\"itemscope\" itemtype=\"https://schema.org/Person\">\n",
       "<span content=\"Ankush Verma\" itemprop=\"name\"></span>\n",
       "</span>\n",
       "<span content=\"Tamil actor's video amid cancer treatment surfaces, fans say 'he looks skinny'\" itemprop=\"description\"></span>\n",
       "<span itemprop=\"image\" itemscope=\"\" itemtype=\"https://schema.org/ImageObject\">\n",
       "<meta content=\"https://static.inshorts.com/inshorts/images/v1/variants/jpg/m/2020/11_nov/17_tue/img_1605581692950_418.jpg?\" itemprop=\"url\"/>\n",
       "<meta content=\"864\" itemprop=\"width\"/>\n",
       "<meta content=\"483\" itemprop=\"height\"/>\n",
       "</span>\n",
       "<span itemprop=\"publisher\" itemscope=\"itemscope\" itemtype=\"https://schema.org/Organization\">\n",
       "<span content=\"https://inshorts.com/\" itemprop=\"url\"></span>\n",
       "<span content=\"Inshorts\" itemprop=\"name\"></span>\n",
       "<span itemprop=\"logo\" itemscope=\"\" itemtype=\"https://schema.org/ImageObject\">\n",
       "<span content=\"https://assets.inshorts.com/inshorts/images/v1/variants/jpg/m/2018/11_nov/21_wed/img_1542823931298_497.jpg\" itemprop=\"url\"></span>\n",
       "<meta content=\"400\" itemprop=\"width\"/>\n",
       "<meta content=\"60\" itemprop=\"height\"/>\n",
       "</span>\n",
       "</span>\n",
       "<div class=\"news-card-image\" style=\"background-image: url('https://static.inshorts.com/inshorts/images/v1/variants/jpg/m/2020/11_nov/17_tue/img_1605581692950_418.jpg?')\">\n",
       "</div>\n",
       "<div class=\"news-card-title news-right-box\">\n",
       "<a class=\"clickable\" href=\"/en/news/tamil-actors-video-amid-cancer-treatment-surfaces-fans-say-he-looks-skinny-1605583414590\" onclick=\"ga('send', {'hitType': 'event', 'eventCategory': 'TitleOfNews', 'eventAction': 'clicked', 'eventLabel': 'Tamil%20actor's%20video%20amid%20cancer%20treatment%20surfaces%2C%20fans%20say%20'he%20looks%20skinny')' });\" style=\"color:#44444d!important\">\n",
       "<span itemprop=\"headline\">Tamil actor's video amid cancer treatment surfaces, fans say 'he looks skinny'</span>\n",
       "</a>\n",
       "<div class=\"news-card-author-time news-card-author-time-in-title\">\n",
       "<a href=\"/prev/en/news/tamil-actors-video-amid-cancer-treatment-surfaces-fans-say-he-looks-skinny-1605583414590\"><span class=\"short\">short</span></a> by <span class=\"author\">Ankush Verma</span> / \n",
       "      <span class=\"time\" content=\"2020-11-17T03:23:34.000Z\" itemprop=\"datePublished\">08:53 am</span> on <span clas=\"date\">17 Nov 2020,Tuesday</span>\n",
       "</div>\n",
       "</div>\n",
       "<div class=\"news-card-content news-right-box\">\n",
       "<div itemprop=\"articleBody\">A video showing Tamil actor Thavasi, known for his supporting roles, appealing for help has surfaced online. The actor is suffering from cancer and is admitted to a hospital. \"I never thought I'd be affected by such a disease. I request...my fellow actors in the industry and the people of the state to help me recover from this,\" he said.</div>\n",
       "<div class=\"news-card-author-time news-card-author-time-in-content\">\n",
       "<a href=\"/prev/en/news/tamil-actors-video-amid-cancer-treatment-surfaces-fans-say-he-looks-skinny-1605583414590\"><span class=\"short\">short</span></a> by <span class=\"author\">Ankush Verma</span> / \n",
       "      <span class=\"time\" content=\"2020-11-17T03:23:34.000Z\" itemprop=\"dateModified\">08:53 am</span> on <span class=\"date\">17 Nov</span>\n",
       "</div>\n",
       "</div>\n",
       "<div class=\"news-card-footer news-right-box\">\n",
       "<div class=\"read-more\">read more at <a class=\"source\" href=\"https://www.facebook.com/107709434243908/videos/325601538807893/?t=5&amp;utm_campaign=fullarticle&amp;utm_medium=referral&amp;utm_source=inshorts \" onclick=\"ga('send', {'hitType': 'event', 'eventCategory': 'ReadMore', 'eventAction': 'clicked', 'eventLabel': 'Facebook' });\" target=\"_blank\">Facebook</a></div>\n",
       "</div>\n",
       "</div>"
      ]
     },
     "execution_count": 23,
     "metadata": {},
     "output_type": "execute_result"
    }
   ],
   "source": [
    "# Scrape a ResultSet of all the news cards on the page and inspect the elements on the first card.\n",
    "\n",
    "cards = soup.find_all('div', class_='news-card')\n",
    "\n",
    "print(f'There are {len(cards)} news cards on this page.')\n",
    "print()\n",
    "cards[0]"
   ]
  },
  {
   "cell_type": "code",
   "execution_count": 24,
   "metadata": {},
   "outputs": [
    {
     "data": {
      "text/plain": [
       "[\"Tamil actor's video amid cancer treatment surfaces, fans say 'he looks skinny'\",\n",
       " \"Sushmita shares video of 'Money Heist' actress singing 'Chunari Chunari'\",\n",
       " 'Tamil TV series actor hacked to death, CCTV footage shows argument with gang',\n",
       " \"Twinkle posts pic of 'Mela' villain's poster, says movie 'left mark or scar on me'\",\n",
       " 'Milind Soman picks up garbage on trek to a temple; shares pic']"
      ]
     },
     "execution_count": 24,
     "metadata": {},
     "output_type": "execute_result"
    }
   ],
   "source": [
    "# Create a list of titles using the span element and itemprop attribute with text method.\n",
    "\n",
    "titles = [card.find('span', itemprop='headline').text for card in cards]\n",
    "titles[:5]"
   ]
  },
  {
   "cell_type": "code",
   "execution_count": 25,
   "metadata": {},
   "outputs": [
    {
     "data": {
      "text/plain": [
       "['Ankush Verma',\n",
       " 'Ankush Verma',\n",
       " 'Daisy Mowke',\n",
       " 'Ankush Verma',\n",
       " 'Pragya Swastik']"
      ]
     },
     "execution_count": 25,
     "metadata": {},
     "output_type": "execute_result"
    }
   ],
   "source": [
    "# Create a list of authors using the span element and class attribute with text method.\n",
    "\n",
    "authors = [card.find('span', class_='author').text for card in cards]\n",
    "authors[:5]"
   ]
  },
  {
   "cell_type": "code",
   "execution_count": 26,
   "metadata": {},
   "outputs": [
    {
     "data": {
      "text/plain": [
       "['A video showing Tamil actor Thavasi, known for his supporting roles, appealing for help has surfaced online. The actor is suffering from cancer and is admitted to a hospital. \"I never thought I\\'d be affected by such a disease. I request...my fellow actors in the industry and the people of the state to help me recover from this,\" he said.',\n",
       " 'Sushmita Sen has shared a video of \\'Money Heist\\' actress Itziar Ituño singing the song \\'Chunari Chunari\\' from the 1999 movie \\'Biwi No. 1\\'. Itziar sang the lines while speaking with News18\\'s Showsha on her love for Bollywood. \"Still having hangover of chunari chunari...Everything in the song was superb,\" a Twitter user commented.',\n",
       " 'Selvarathinam, an actor who played a villain in a Tamil TV series was hacked to death. \"[On Sunday]...he received a call after which he left...Later, his roommate received the information [about his death],\" police said. CCTV footage shows 4 suspicious men moving about near the murder spot. The actor could be found involved in a brief argument with the gang.',\n",
       " 'Twinkle Khanna shared a picture of a poster of Tinu Verma, who played the villain in \\'Mela\\', on the back of a truck. \"What can I say except Mela has certainly left a mark or a scar...on me and the rest of the nation,\" she said. \"Certain things...are timeless! This popped up in my messages today,\" she added.',\n",
       " 'Actor Milind Soman picked garbage on a trek to a Shiva temple at the top of a hill. He was told there were no dustbins because monkeys kept throwing garbage out of the bins and the garbage is eventually burnt in the forest. \"I think the time has come for us to be smarter than monkeys,\" Soman wrote on Instagram.']"
      ]
     },
     "execution_count": 26,
     "metadata": {},
     "output_type": "execute_result"
    }
   ],
   "source": [
    "# Create a list of content strings using the div element and itemprop attribute with text method.\n",
    "\n",
    "content = [card.find('div', itemprop='articleBody').text for card in cards]\n",
    "content[:5]"
   ]
  },
  {
   "cell_type": "code",
   "execution_count": 27,
   "metadata": {},
   "outputs": [],
   "source": [
    "# Create an empty list, articles, to hold the dictionaries for each article.\n",
    "articles = []\n",
    "\n",
    "# Loop through each news card on the page and get what we want\n",
    "for card in cards:\n",
    "    title = card.find('span', itemprop='headline' ).text\n",
    "    author = card.find('span', class_='author').text\n",
    "    content = card.find('div', itemprop='articleBody').text\n",
    "    \n",
    "    # Create a dictionary, article, for each news card\n",
    "    article = {'title': title, 'author': author, 'content': content}\n",
    "    \n",
    "    # Add the dictionary, article, to our list of dictionaries, articles.\n",
    "    articles.append(article)"
   ]
  },
  {
   "cell_type": "code",
   "execution_count": 28,
   "metadata": {},
   "outputs": [
    {
     "name": "stdout",
     "output_type": "stream",
     "text": [
      "24\n"
     ]
    },
    {
     "data": {
      "text/plain": [
       "{'title': \"Tamil actor's video amid cancer treatment surfaces, fans say 'he looks skinny'\",\n",
       " 'author': 'Ankush Verma',\n",
       " 'content': 'A video showing Tamil actor Thavasi, known for his supporting roles, appealing for help has surfaced online. The actor is suffering from cancer and is admitted to a hospital. \"I never thought I\\'d be affected by such a disease. I request...my fellow actors in the industry and the people of the state to help me recover from this,\" he said.'}"
      ]
     },
     "execution_count": 28,
     "metadata": {},
     "output_type": "execute_result"
    }
   ],
   "source": [
    "# Here we see our list contains 24-25 dictionaries for news cards\n",
    "\n",
    "print(len(articles))\n",
    "articles[0]"
   ]
  },
  {
   "cell_type": "code",
   "execution_count": 29,
   "metadata": {},
   "outputs": [],
   "source": [
    "def get_news_articles(cached=False):\n",
    "    '''\n",
    "    This function with default cached == False does a fresh scrape of inshort pages with topics \n",
    "    business, sports, technology, and entertainment and writes the returned df to a json file.\n",
    "    cached == True returns a df read in from a json file.\n",
    "    '''\n",
    "    # option to read in a json file instead of scrape for df\n",
    "    if cached == True:\n",
    "        df = pd.read_json('articles.json')\n",
    "        \n",
    "    # cached == False completes a fresh scrape for df    \n",
    "    else:\n",
    "    \n",
    "        # Set base_url that will be used in get request\n",
    "        base_url = 'https://inshorts.com/en/read/'\n",
    "        \n",
    "        # List of topics to scrape\n",
    "        topics = ['business', 'sports', 'technology', 'entertainment']\n",
    "        \n",
    "        # Create an empty list, articles, to hold our dictionaries\n",
    "        articles = []\n",
    "\n",
    "        for topic in topics:\n",
    "            \n",
    "            # Create url with topic endpoint\n",
    "            topic_url = base_url + topic\n",
    "            \n",
    "            # Make request and soup object using helper\n",
    "            soup = make_soup(topic_url)\n",
    "\n",
    "            # Scrape a ResultSet of all the news cards on the page\n",
    "            cards = soup.find_all('div', class_='news-card')\n",
    "\n",
    "            # Loop through each news card on the page and get what we want\n",
    "            for card in cards:\n",
    "                title = card.find('span', itemprop='headline' ).text\n",
    "                author = card.find('span', class_='author').text\n",
    "                content = card.find('div', itemprop='articleBody').text\n",
    "\n",
    "                # Create a dictionary, article, for each news card\n",
    "                article = ({'topic': topic, \n",
    "                            'title': title, \n",
    "                            'author': author, \n",
    "                            'content': content})\n",
    "\n",
    "                # Add the dictionary, article, to our list of dictionaries, articles.\n",
    "                articles.append(article)\n",
    "            \n",
    "        # Create a DataFrame from list of dictionaries\n",
    "        df = pd.DataFrame(articles)\n",
    "        \n",
    "        # Write df to json file for future use\n",
    "        df.to_json('articles.json')\n",
    "    \n",
    "    return df"
   ]
  },
  {
   "cell_type": "code",
   "execution_count": 30,
   "metadata": {},
   "outputs": [
    {
     "data": {
      "text/html": [
       "<div>\n",
       "<style scoped>\n",
       "    .dataframe tbody tr th:only-of-type {\n",
       "        vertical-align: middle;\n",
       "    }\n",
       "\n",
       "    .dataframe tbody tr th {\n",
       "        vertical-align: top;\n",
       "    }\n",
       "\n",
       "    .dataframe thead th {\n",
       "        text-align: right;\n",
       "    }\n",
       "</style>\n",
       "<table border=\"1\" class=\"dataframe\">\n",
       "  <thead>\n",
       "    <tr style=\"text-align: right;\">\n",
       "      <th></th>\n",
       "      <th>topic</th>\n",
       "      <th>title</th>\n",
       "      <th>author</th>\n",
       "      <th>content</th>\n",
       "    </tr>\n",
       "  </thead>\n",
       "  <tbody>\n",
       "    <tr>\n",
       "      <th>0</th>\n",
       "      <td>business</td>\n",
       "      <td>Lakshmi Vilas Bank withdrawals capped at ₹25,0...</td>\n",
       "      <td>Pragya Swastik</td>\n",
       "      <td>The Centre has imposed a 30-day moratorium on ...</td>\n",
       "    </tr>\n",
       "    <tr>\n",
       "      <th>1</th>\n",
       "      <td>business</td>\n",
       "      <td>Shutting Delhi markets may prove counterproduc...</td>\n",
       "      <td>Sakshita Khosla</td>\n",
       "      <td>Traders' body CAIT on Tuesday said a proposal ...</td>\n",
       "    </tr>\n",
       "    <tr>\n",
       "      <th>2</th>\n",
       "      <td>business</td>\n",
       "      <td>Pfizer shares drop 4.5% as Moderna says its va...</td>\n",
       "      <td>Krishna Veera Vanamali</td>\n",
       "      <td>Pfizer’s shares fell as much as 4.5% on Monday...</td>\n",
       "    </tr>\n",
       "    <tr>\n",
       "      <th>3</th>\n",
       "      <td>business</td>\n",
       "      <td>How does Moderna's COVID-19 vaccine candidate ...</td>\n",
       "      <td>Pragya Swastik</td>\n",
       "      <td>Moderna's initial results of late-stage trial ...</td>\n",
       "    </tr>\n",
       "    <tr>\n",
       "      <th>4</th>\n",
       "      <td>business</td>\n",
       "      <td>Musk gets $15bn richer in 2 hours, becomes wor...</td>\n",
       "      <td>Krishna Veera Vanamali</td>\n",
       "      <td>Billionaire Elon Musk added $15 billion to his...</td>\n",
       "    </tr>\n",
       "  </tbody>\n",
       "</table>\n",
       "</div>"
      ],
      "text/plain": [
       "      topic                                              title  \\\n",
       "0  business  Lakshmi Vilas Bank withdrawals capped at ₹25,0...   \n",
       "1  business  Shutting Delhi markets may prove counterproduc...   \n",
       "2  business  Pfizer shares drop 4.5% as Moderna says its va...   \n",
       "3  business  How does Moderna's COVID-19 vaccine candidate ...   \n",
       "4  business  Musk gets $15bn richer in 2 hours, becomes wor...   \n",
       "\n",
       "                   author                                            content  \n",
       "0          Pragya Swastik  The Centre has imposed a 30-day moratorium on ...  \n",
       "1         Sakshita Khosla  Traders' body CAIT on Tuesday said a proposal ...  \n",
       "2  Krishna Veera Vanamali  Pfizer’s shares fell as much as 4.5% on Monday...  \n",
       "3          Pragya Swastik  Moderna's initial results of late-stage trial ...  \n",
       "4  Krishna Veera Vanamali  Billionaire Elon Musk added $15 billion to his...  "
      ]
     },
     "execution_count": 30,
     "metadata": {},
     "output_type": "execute_result"
    }
   ],
   "source": [
    "# Test our function with cached == False to do a freash scrape and create `articles.json` file.\n",
    "\n",
    "df = get_news_articles(cached=False)\n",
    "df.head()"
   ]
  },
  {
   "cell_type": "code",
   "execution_count": 31,
   "metadata": {},
   "outputs": [
    {
     "data": {
      "text/plain": [
       "sports           25\n",
       "business         25\n",
       "technology       25\n",
       "entertainment    24\n",
       "Name: topic, dtype: int64"
      ]
     },
     "execution_count": 31,
     "metadata": {},
     "output_type": "execute_result"
    }
   ],
   "source": [
    "df.topic.value_counts()"
   ]
  },
  {
   "cell_type": "code",
   "execution_count": 32,
   "metadata": {},
   "outputs": [
    {
     "name": "stdout",
     "output_type": "stream",
     "text": [
      "<class 'pandas.core.frame.DataFrame'>\n",
      "RangeIndex: 99 entries, 0 to 98\n",
      "Data columns (total 4 columns):\n",
      " #   Column   Non-Null Count  Dtype \n",
      "---  ------   --------------  ----- \n",
      " 0   topic    99 non-null     object\n",
      " 1   title    99 non-null     object\n",
      " 2   author   99 non-null     object\n",
      " 3   content  99 non-null     object\n",
      "dtypes: object(4)\n",
      "memory usage: 3.2+ KB\n"
     ]
    }
   ],
   "source": [
    "df.info()"
   ]
  },
  {
   "cell_type": "code",
   "execution_count": 33,
   "metadata": {},
   "outputs": [
    {
     "data": {
      "text/html": [
       "<div>\n",
       "<style scoped>\n",
       "    .dataframe tbody tr th:only-of-type {\n",
       "        vertical-align: middle;\n",
       "    }\n",
       "\n",
       "    .dataframe tbody tr th {\n",
       "        vertical-align: top;\n",
       "    }\n",
       "\n",
       "    .dataframe thead th {\n",
       "        text-align: right;\n",
       "    }\n",
       "</style>\n",
       "<table border=\"1\" class=\"dataframe\">\n",
       "  <thead>\n",
       "    <tr style=\"text-align: right;\">\n",
       "      <th></th>\n",
       "      <th>topic</th>\n",
       "      <th>title</th>\n",
       "      <th>author</th>\n",
       "      <th>content</th>\n",
       "    </tr>\n",
       "  </thead>\n",
       "  <tbody>\n",
       "    <tr>\n",
       "      <th>0</th>\n",
       "      <td>business</td>\n",
       "      <td>Lakshmi Vilas Bank withdrawals capped at ₹25,0...</td>\n",
       "      <td>Pragya Swastik</td>\n",
       "      <td>The Centre has imposed a 30-day moratorium on ...</td>\n",
       "    </tr>\n",
       "    <tr>\n",
       "      <th>1</th>\n",
       "      <td>business</td>\n",
       "      <td>Shutting Delhi markets may prove counterproduc...</td>\n",
       "      <td>Sakshita Khosla</td>\n",
       "      <td>Traders' body CAIT on Tuesday said a proposal ...</td>\n",
       "    </tr>\n",
       "    <tr>\n",
       "      <th>2</th>\n",
       "      <td>business</td>\n",
       "      <td>Pfizer shares drop 4.5% as Moderna says its va...</td>\n",
       "      <td>Krishna Veera Vanamali</td>\n",
       "      <td>Pfizer’s shares fell as much as 4.5% on Monday...</td>\n",
       "    </tr>\n",
       "    <tr>\n",
       "      <th>3</th>\n",
       "      <td>business</td>\n",
       "      <td>How does Moderna's COVID-19 vaccine candidate ...</td>\n",
       "      <td>Pragya Swastik</td>\n",
       "      <td>Moderna's initial results of late-stage trial ...</td>\n",
       "    </tr>\n",
       "    <tr>\n",
       "      <th>4</th>\n",
       "      <td>business</td>\n",
       "      <td>Musk gets $15bn richer in 2 hours, becomes wor...</td>\n",
       "      <td>Krishna Veera Vanamali</td>\n",
       "      <td>Billionaire Elon Musk added $15 billion to his...</td>\n",
       "    </tr>\n",
       "  </tbody>\n",
       "</table>\n",
       "</div>"
      ],
      "text/plain": [
       "      topic                                              title  \\\n",
       "0  business  Lakshmi Vilas Bank withdrawals capped at ₹25,0...   \n",
       "1  business  Shutting Delhi markets may prove counterproduc...   \n",
       "2  business  Pfizer shares drop 4.5% as Moderna says its va...   \n",
       "3  business  How does Moderna's COVID-19 vaccine candidate ...   \n",
       "4  business  Musk gets $15bn richer in 2 hours, becomes wor...   \n",
       "\n",
       "                   author                                            content  \n",
       "0          Pragya Swastik  The Centre has imposed a 30-day moratorium on ...  \n",
       "1         Sakshita Khosla  Traders' body CAIT on Tuesday said a proposal ...  \n",
       "2  Krishna Veera Vanamali  Pfizer’s shares fell as much as 4.5% on Monday...  \n",
       "3          Pragya Swastik  Moderna's initial results of late-stage trial ...  \n",
       "4  Krishna Veera Vanamali  Billionaire Elon Musk added $15 billion to his...  "
      ]
     },
     "execution_count": 33,
     "metadata": {},
     "output_type": "execute_result"
    }
   ],
   "source": [
    "# Test our function to read in the df from `articles.csv`\n",
    "\n",
    "df = get_news_articles(cached=True)\n",
    "df.head()"
   ]
  },
  {
   "cell_type": "code",
   "execution_count": 34,
   "metadata": {},
   "outputs": [
    {
     "name": "stdout",
     "output_type": "stream",
     "text": [
      "<class 'pandas.core.frame.DataFrame'>\n",
      "Int64Index: 99 entries, 0 to 98\n",
      "Data columns (total 4 columns):\n",
      " #   Column   Non-Null Count  Dtype \n",
      "---  ------   --------------  ----- \n",
      " 0   topic    99 non-null     object\n",
      " 1   title    99 non-null     object\n",
      " 2   author   99 non-null     object\n",
      " 3   content  99 non-null     object\n",
      "dtypes: object(4)\n",
      "memory usage: 3.9+ KB\n"
     ]
    }
   ],
   "source": [
    "df.info()"
   ]
  },
  {
   "cell_type": "code",
   "execution_count": null,
   "metadata": {},
   "outputs": [],
   "source": []
  }
 ],
 "metadata": {
  "kernelspec": {
   "display_name": "Python 3",
   "language": "python",
   "name": "python3"
  },
  "language_info": {
   "codemirror_mode": {
    "name": "ipython",
    "version": 3
   },
   "file_extension": ".py",
   "mimetype": "text/x-python",
   "name": "python",
   "nbconvert_exporter": "python",
   "pygments_lexer": "ipython3",
   "version": "3.7.9"
  }
 },
 "nbformat": 4,
 "nbformat_minor": 4
}
